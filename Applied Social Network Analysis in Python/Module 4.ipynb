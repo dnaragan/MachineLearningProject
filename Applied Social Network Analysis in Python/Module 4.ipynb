{
 "cells": [
  {
   "cell_type": "markdown",
   "metadata": {},
   "source": [
    "# Module 4: Network Evolution\n",
    "\n",
    "\n",
    "*The notes in this module use NetworkX version 1.11. I haven't tested any of the code on NetworkX version 2.*"
   ]
  },
  {
   "cell_type": "markdown",
   "metadata": {},
   "source": [
    "## About this Module\n",
    "\n",
    "In Module Four, you'll explore the evolution of networks over time, including the different models that generate networks with realistic features, such as the Preferential Attachment Model and Small World Networks. You will also explore the link prediction problem, where you will learn useful features that can predict whether a pair of disconnected nodes will be connected in the future. In the assignment, you will be challenged to identify which model generated a given network. Additionally, you will have the opportunity to combine different concepts of the course by predicting the salary, position, and future connections of the employees of a company using their logs of email exchanges."
   ]
  },
  {
   "cell_type": "markdown",
   "metadata": {},
   "source": [
    "## Learning Objectives\n",
    "\n",
    "* Define the degree distribution of a network and use networkX to visualize it.\n",
    "* Identify the typical properties of real, large networks such as power law like degree distribution, high clustering, and small average shortest paths.\n",
    "* Describe the mechanics of the Preferential Attachment Model and identify the properties of the networks it generates.\n",
    "* Describe the mechanics of the Small World Model and identify the properties of the networks it generates.\n",
    "* Identify and describe several network measures that can be used for link prediction.\n",
    "* Use NetworkX to create node pair features that are predictive of new edges.\n",
    "* Use NetworkX to create node features that are predictive of node attributes in a real world setting."
   ]
  },
  {
   "cell_type": "markdown",
   "metadata": {},
   "source": [
    "## Lecture 1: Preferential Attachment Model"
   ]
  },
  {
   "cell_type": "markdown",
   "metadata": {},
   "source": [
    "### Degree distributons"
   ]
  },
  {
   "cell_type": "markdown",
   "metadata": {},
   "source": [
    "The **degree distribution** of a graph is the probability distribution of the edges over the entire network.\n",
    "\n"
   ]
  },
  {
   "cell_type": "code",
   "execution_count": 1,
   "metadata": {},
   "outputs": [],
   "source": [
    "# %pprint       # turns ON/OFF output pretty printing\n",
    "\n",
    "import matplotlib\n",
    "%matplotlib inline\n",
    "\n",
    "import networkx as nx"
   ]
  },
  {
   "cell_type": "markdown",
   "metadata": {},
   "source": [
    "Let's load the example graph that tha instructor is using *(see lecture video time 1:12)*:"
   ]
  },
  {
   "cell_type": "code",
   "execution_count": 5,
   "metadata": {},
   "outputs": [],
   "source": [
    "G = nx.Graph()\n",
    "G.add_edges_from([('A', 'B'), ('A', 'G'), ('A', 'H'),\n",
    "                  ('B', 'C'), \n",
    "                  ('C', 'E'), ('C', 'D'),\n",
    "                  ('D', 'F'), \n",
    "                  ('F', 'G'), ('F', 'I'),\n",
    "                  ('G', 'H'), ('G', 'I'),\n",
    "                 ])"
   ]
  },
  {
   "cell_type": "markdown",
   "metadata": {},
   "source": [
    "We can see the degrees match the ones shown in the lecture video:"
   ]
  },
  {
   "cell_type": "code",
   "execution_count": 6,
   "metadata": {},
   "outputs": [
    {
     "data": {
      "text/plain": [
       "{'A': 3, 'B': 2, 'G': 4, 'H': 2, 'C': 3, 'E': 1, 'D': 2, 'F': 3, 'I': 2}"
      ]
     },
     "execution_count": 6,
     "metadata": {},
     "output_type": "execute_result"
    }
   ],
   "source": [
    "G.degree()"
   ]
  },
  {
   "cell_type": "markdown",
   "metadata": {},
   "source": [
    "The degree distribution, $P(k)$, of this example network is: $ P(1) = \\frac{1}{9} , P(2) = \\frac{4}{9}, P(3) = \\frac{1}{3} , P(4) = \\frac{1}{9} $\n",
    "\n",
    "#### How to calculate the degree distribution for any network:"
   ]
  },
  {
   "cell_type": "code",
   "execution_count": 31,
   "metadata": {},
   "outputs": [],
   "source": [
    "from itertools import groupby\n",
    "\n",
    "N = G.number_of_nodes()\n",
    "\n",
    "degrees = G.degree()\n",
    "\n",
    "uniq_deg = sorted(set(degrees.values()))\n",
    "\n",
    "# teacher's solution is costly O(n^2), because of the list.count()\n",
    "histogram = [list(degrees.values()).count(d) / N for d in uniq_deg]\n",
    "\n",
    "# my solution is O(NlogN) but it does take more memory\n",
    "sorted_deg = sorted(degrees.values())\n",
    "my_histogram = [len(list(g)) / N for e, g in groupby(sorted_deg)]"
   ]
  },
  {
   "cell_type": "markdown",
   "metadata": {},
   "source": [
    "Now we can plot the histogram:"
   ]
  },
  {
   "cell_type": "code",
   "execution_count": 32,
   "metadata": {},
   "outputs": [
    {
     "data": {
      "text/plain": [
       "Text(0,0.5,'Fraction of nodes')"
      ]
     },
     "execution_count": 32,
     "metadata": {},
     "output_type": "execute_result"
    },
    {
     "data": {
      "image/png": "[encoded data removed]",
      "text/plain": [
       "<Figure size 432x288 with 1 Axes>"
      ]
     },
     "metadata": {
      "needs_background": "light"
     },
     "output_type": "display_data"
    }
   ],
   "source": [
    "import matplotlib.pyplot as plt\n",
    "\n",
    "plt.bar(uniq_deg, my_histogram)\n",
    "plt.xlabel('Degree')\n",
    "plt.ylabel('Fraction of nodes')"
   ]
  },
  {
   "cell_type": "markdown",
   "metadata": {},
   "source": [
    "#### In-degree distributions"
   ]
  },
  {
   "cell_type": "markdown",
   "metadata": {},
   "source": [
    "Same logic applies, just use the funtion `G.in_degree()`"
   ]
  },
  {
   "cell_type": "markdown",
   "metadata": {},
   "source": [
    "#### Degree distribution in real networks"
   ]
  },
  {
   "cell_type": "markdown",
   "metadata": {},
   "source": [
    "*(See lecture video time 3:05 to see 3 examples of degree distribution for real networks)*\n",
    "\n",
    "Degree distributions tend to look as a straight line on a log-log scale. \n",
    "\n",
    "They obey the **power law**: $ P(k) = C k^{-\\alpha} $ , where $\\alpha$ and $C$ are constants.\n",
    "\n",
    "Most of the nodes have very small degree, but a few nodes accumulate very large degree."
   ]
  },
  {
   "cell_type": "markdown",
   "metadata": {},
   "source": [
    "**Question**: \n",
    "\n",
    "Can we come up with a generative model that reproduce the power law property in the degree distribution of the network?"
   ]
  },
  {
   "cell_type": "markdown",
   "metadata": {},
   "source": [
    "### Preferential Attachment Model: Generative model to reproduce the power law degree distribution"
   ]
  },
  {
   "cell_type": "markdown",
   "metadata": {},
   "source": [
    "In order to understand the properties of networks, we want to create a generative model that, from simple rules, can generate artificial networks with the same properties we observe in real networks (power law degree distribution).\n",
    "\n",
    "The Preferential Attachment Model is one of the models that produce networks with realistic properties."
   ]
  },
  {
   "cell_type": "markdown",
   "metadata": {},
   "source": [
    "##### Rules of the Preferential Attachment Model:"
   ]
  },
  {
   "cell_type": "markdown",
   "metadata": {},
   "source": [
    "* Start with 2 nodes connected by an edge.\n",
    "\n",
    "\n",
    "* At each iteration add a new node with one edge connecting to an existing node.\n",
    "\n",
    "\n",
    "* Chose the node to connect at random to with probability proportional to each node's degree.\n",
    "\n",
    "\n",
    "* The probability of connecting to a node $u$ of degree $k_u$ is: \n",
    "\n",
    "$$\\frac{k_u}{\\sum_j k_j}$$"
   ]
  },
  {
   "cell_type": "markdown",
   "metadata": {},
   "source": [
    "##### Convergence to a power law distribution\n",
    "\n",
    "It can be proven that the preferential Attachment Model always gives rise to a Power law degree distribution:\n",
    "\n",
    "As the number of nodes increases, the *degree distribution* of a network under the *Preferential Attachment Model* approaches the power law: $ P(k) = C k^{-3} $ , where $C$ is a constant."
   ]
  },
  {
   "cell_type": "markdown",
   "metadata": {},
   "source": [
    "#### Preferential Attachment Model in NetworkX"
   ]
  },
  {
   "cell_type": "markdown",
   "metadata": {},
   "source": [
    "We can use the function `barabasi_albert_graph(n,m)`, which returns a network with n nodes. Each new nodes attaches to m existing nodes according to the Preferential Attachment Model rules."
   ]
  },
  {
   "cell_type": "markdown",
   "metadata": {},
   "source": [
    "Let's create a network with the Preferential Attachment Model with 1 million nodes and $m=1$ (every node attaches to a single existing node):"
   ]
  },
  {
   "cell_type": "code",
   "execution_count": 33,
   "metadata": {},
   "outputs": [],
   "source": [
    "G = nx.barabasi_albert_graph(1000000, 1)"
   ]
  },
  {
   "cell_type": "markdown",
   "metadata": {},
   "source": [
    "Now let's calculate the degree distribution the same way as before:"
   ]
  },
  {
   "cell_type": "code",
   "execution_count": 34,
   "metadata": {},
   "outputs": [],
   "source": [
    "N = G.number_of_nodes()\n",
    "\n",
    "degrees = G.degree()\n",
    "\n",
    "uniq_deg = sorted(set(degrees.values()))\n",
    "\n",
    "# teacher's solution is costly O(n^2), because of the list.count()\n",
    "# histogram = [list(degrees.values()).count(d) / N for d in uniq_deg]\n",
    "\n",
    "# my solution is O(NlogN) but it does take more memory\n",
    "sorted_deg = sorted(degrees.values())\n",
    "my_histogram = [len(list(g)) / N for e, g in groupby(sorted_deg)]"
   ]
  },
  {
   "cell_type": "markdown",
   "metadata": {},
   "source": [
    "Now let's plot the degree distribution as before, only now using a scatter plot with log-log axis scales:"
   ]
  },
  {
   "cell_type": "code",
   "execution_count": 36,
   "metadata": {},
   "outputs": [
    {
     "data": {
      "image/png": "[encoded data removed]",
      "text/plain": [
       "<Figure size 432x288 with 1 Axes>"
      ]
     },
     "metadata": {
      "needs_background": "light"
     },
     "output_type": "display_data"
    }
   ],
   "source": [
    "plt.plot(uniq_deg, my_histogram, 'o')\n",
    "plt.xlabel('Degree')\n",
    "plt.ylabel('Fraction of nodes')\n",
    "\n",
    "plt.xscale('log')\n",
    "plt.yscale('log')"
   ]
  },
  {
   "cell_type": "markdown",
   "metadata": {},
   "source": [
    "### Summary"
   ]
  },
  {
   "cell_type": "markdown",
   "metadata": {},
   "source": [
    "* The degree distribution of a graph is the probability distribution of the degrees over the entire network.\n",
    "\n",
    "\n",
    "* Many real networks have a degree distribution that looks like a power law: $ P(k) = C k^{-\\alpha} $ , where $\\alpha$ and $C$ are constants.\n",
    "\n",
    "\n",
    "* Models of network generation allow us to identify mechanisms that give rise to observed patterns in real data.\n",
    "\n",
    "\n",
    "* The Preferential Attachment Model produces networks with a power law degree distribution.\n",
    "\n",
    "\n",
    "* In networkx use `nx.barabasi_albert_graph(n, m)` to construct a n-node Preferential Attachment network, where each new node attaches to m existing nodes."
   ]
  },
  {
   "cell_type": "markdown",
   "metadata": {},
   "source": [
    "----"
   ]
  },
  {
   "cell_type": "markdown",
   "metadata": {},
   "source": [
    "## Power Laws and Rich-Get-Richer Phenomena (optional reading)"
   ]
  },
  {
   "cell_type": "markdown",
   "metadata": {},
   "source": [
    "Read Chapter 18 from \"Networks, Crowds, and Markets: Reasoning about a Highly Connected World\" By David Easley and Jon Kleinberg. Cambridge University Press, 2010 for an interesting read on Power Laws and Rich-Get-Richer phenomena such as the preferential attachment model.\n",
    "\n",
    "http://www.cs.cornell.edu/home/kleinber/networks-book/networks-book-ch18.pdf"
   ]
  },
  {
   "cell_type": "markdown",
   "metadata": {},
   "source": [
    "----"
   ]
  },
  {
   "cell_type": "markdown",
   "metadata": {},
   "source": [
    "## Lecture 2: Small World Networks"
   ]
  },
  {
   "cell_type": "markdown",
   "metadata": {},
   "source": [
    "There is this idea which suggests that the world is small, in the sense that we are all connected by very short paths between each other.\n",
    "\n"
   ]
  },
  {
   "cell_type": "markdown",
   "metadata": {},
   "source": [
    "#### Milgram Small world experiment"
   ]
  },
  {
   "cell_type": "markdown",
   "metadata": {},
   "source": [
    "Set up (1960s):\n",
    "\n",
    "* 296 randomly chosen \"starters\" asked to forward a letter to a \"target\" person.\n",
    "\n",
    "* Target was a stock broker in Boston.\n",
    "\n",
    "* Instructions for starters:\n",
    "    - Send letter to target if you know him.\n",
    "    - If you do not know target, send letter (and instructions) to someone you know, who is more likely to know the target.\n",
    "    \n",
    "* Some information about the target, such as city and occupation, was provided.\n",
    "\n",
    "\n",
    "**Results**: *(see video lecture time 1:37 for a figure with the chain length distribution)*\n",
    "\n",
    "* 64 out of 296 letters reached the target.\n",
    "\n",
    "* Median chain length was 6 (consistent with the phrase \"six degrees of separation\").\n",
    "\n"
   ]
  },
  {
   "cell_type": "markdown",
   "metadata": {},
   "source": [
    "#### More resent data:\n",
    "\n",
    "1. Leskovec and Horvitz, 2008:  *(see video lecture time 3:48)*\n",
    "\n",
    "    - Nodes: 240 million users of Microsoft Instant Messenger.\n",
    "    - Edges: Users engaged in two-way communication over a one-month period.\n",
    "    - Estimated median path length: 7\n",
    "    - Average Clustering Coefficient: 0.13\n",
    "\n",
    "\n",
    "2. Backstrom et al, 2012: *(see video lecture time 4:19)*\n",
    " \n",
    "     - Facebook data: studied variations over time and global vs regional.\n",
    "     - Average path length in 2008 was 5.28, and in 2011 it was 4.74.\n",
    "     - Paths are even shorter if network restricted to US only.\n",
    "     - High Average Clustering Coefficient (decreases with degree)."
   ]
  },
  {
   "cell_type": "markdown",
   "metadata": {},
   "source": [
    "#### What the experimental evidence shows:\n",
    "\n",
    "Experimental evidence tell us that real networks, with millions of people, exhibit some surprising properties:\n",
    "\n",
    "1. Average shortest path between pairs of nodes is very small.\n",
    "\n",
    "2. High average Clustering Coefficient.\n"
   ]
  },
  {
   "cell_type": "markdown",
   "metadata": {},
   "source": [
    "*Note: Recall from Module 2 that the **Local Clustering Coefficiant** is the fraction of pairs of node's friends that are fiends with each other. (Roughly, it measures if there are a lot of \"triangles\" formed).*"
   ]
  },
  {
   "cell_type": "markdown",
   "metadata": {},
   "source": [
    "**Question**: \n",
    "\n",
    "Can we come up with a generative model that reproduces these two properties: small Path Lengths and high Clustering Coeff?"
   ]
  },
  {
   "cell_type": "markdown",
   "metadata": {},
   "source": [
    "#### Path length and clustering for the Preferential Attachment Model\n",
    "\n",
    "Can the Preferential Attachment Model reproduce these two properties: small Path Lengths and high Clustering Coeff?"
   ]
  },
  {
   "cell_type": "markdown",
   "metadata": {},
   "source": [
    "Let's create a Preferential Attachment Model graph in networkx:"
   ]
  },
  {
   "cell_type": "code",
   "execution_count": 43,
   "metadata": {},
   "outputs": [],
   "source": [
    "G = nx.barabasi_albert_graph(10000, 4)"
   ]
  },
  {
   "cell_type": "markdown",
   "metadata": {},
   "source": [
    "The average clustering is too small:"
   ]
  },
  {
   "cell_type": "code",
   "execution_count": 44,
   "metadata": {},
   "outputs": [
    {
     "data": {
      "text/plain": [
       "0.005944583123543594"
      ]
     },
     "execution_count": 44,
     "metadata": {},
     "output_type": "execute_result"
    }
   ],
   "source": [
    "nx.average_clustering(G)"
   ]
  },
  {
   "cell_type": "markdown",
   "metadata": {},
   "source": [
    "The average shortest path length seem to be in line with the experimental evidence:"
   ]
  },
  {
   "cell_type": "code",
   "execution_count": 45,
   "metadata": {},
   "outputs": [
    {
     "data": {
      "text/plain": [
       "3.902908490849085"
      ]
     },
     "execution_count": 45,
     "metadata": {},
     "output_type": "execute_result"
    }
   ],
   "source": [
    "nx.average_shortest_path_length(G)"
   ]
  },
  {
   "cell_type": "markdown",
   "metadata": {},
   "source": []
  },
  {
   "cell_type": "markdown",
   "metadata": {},
   "source": [
    "**Avg Clustering and Path length variation as a factor of the number of nodes (n) and number of edges per new node (m) in the Preferential Attachment Model:**\n",
    "\n",
    "*See video lecture time 8:09 for the plots showing how the avg clustering coeff and avg shortest path length change for different values of m*\n",
    "\n",
    "Small average shortest paths: high degree nodes act as hubs and connect many pairs of nodes. This is in accordance with the real data.\n",
    "\n",
    "Clustering Coefficient get smaller and smaller as n increases, no matter what m is chosen. This is **not in accordance with the real data**."
   ]
  },
  {
   "cell_type": "markdown",
   "metadata": {},
   "source": [
    "### Small World Model"
   ]
  },
  {
   "cell_type": "markdown",
   "metadata": {},
   "source": [
    "**Motivation**: We need a generative model that can create networks with high clustering coefficient and small average shortest path (because many real world networks exhibit these properties).\n",
    "\n",
    "\n",
    "**Small World Model**:\n",
    "\n",
    "* Start with a ring of $n$ nodes, where each node is connected to its $k$ nearest neighbors ($k$ is a parameter to fix).\n",
    "\n",
    "* Fix a parameter $ p \\in [0, 1] $.\n",
    "\n",
    "* For each edge $(u, v)$: with probability $p$ select a node $w$ at random and rewire the edge $(u, v)$ to $(u, w)$.\n",
    "\n"
   ]
  },
  {
   "cell_type": "markdown",
   "metadata": {},
   "source": [
    "*(See lecture video time 10:15 for an example of generating a Small World Model network with k=2, p=0.4)*"
   ]
  },
  {
   "cell_type": "markdown",
   "metadata": {},
   "source": [
    "*(See lecture video time 12:12 for an illustration from Watts and Strogratz, 1999, that shows the effect of increasing p on the networks generated by the Small World Model)*"
   ]
  },
  {
   "cell_type": "markdown",
   "metadata": {},
   "source": [
    "#### Clustering and shortest length behavior in the Small World Model"
   ]
  },
  {
   "cell_type": "markdown",
   "metadata": {},
   "source": [
    "The average clustering coefficient and shortest path length of a Small World network depends on paramenters $k$ and $p$:\n",
    "\n",
    "As p increases from 0 to 0.1:\n",
    "- average shortest path decreases rapidly.\n",
    "- average clustering coefficient decreases slowly.\n"
   ]
  },
  {
   "cell_type": "markdown",
   "metadata": {},
   "source": [
    "For example: an instance of a network with 1000 nodes, k=6 and p=0.004 has:\n",
    "* 8.99 average shortest path.\n",
    "* 0.53 average clustering coefficient."
   ]
  },
  {
   "cell_type": "markdown",
   "metadata": {},
   "source": [
    "*(see lecture video time 15:12 for the plots of Avg clustering and shortest path as a function of p, for several values of k)*"
   ]
  },
  {
   "cell_type": "markdown",
   "metadata": {},
   "source": [
    "#### Small World Model in NetworkX"
   ]
  },
  {
   "cell_type": "markdown",
   "metadata": {},
   "source": [
    "The function `nx.watts_strogatz_graph(n, k, p)` returns a small world network with $n$ nodes, starting with a ring lattice with each node connected to its $k$ nearest neighbors, and rewiring probability of $p$. "
   ]
  },
  {
   "cell_type": "markdown",
   "metadata": {},
   "source": [
    "#### Degree distribution in Small World Models"
   ]
  },
  {
   "cell_type": "markdown",
   "metadata": {},
   "source": [
    "Let's use the same logic we used before to compute the degree distribution:"
   ]
  },
  {
   "cell_type": "code",
   "execution_count": 91,
   "metadata": {},
   "outputs": [],
   "source": [
    "n, k, p = 1000, 6, 0.04  # parameter of the Small World Model\n",
    "\n",
    "G = nx.watts_strogatz_graph(n, k, p)\n",
    "\n",
    "N = G.number_of_nodes()"
   ]
  },
  {
   "cell_type": "code",
   "execution_count": 92,
   "metadata": {},
   "outputs": [],
   "source": [
    "degrees = G.degree()\n",
    "\n",
    "degree_values = sorted(set(degrees.values()))  # unique and sorted degrees \n",
    "sorted_degrees = sorted(degrees.values())      # all degrees (with repeats) sorted\n",
    "\n",
    "from itertools import groupby\n",
    "\n",
    "histogram = [len(list(g))/N for _, g in groupby(sorted_degrees)]"
   ]
  },
  {
   "cell_type": "code",
   "execution_count": 93,
   "metadata": {},
   "outputs": [
    {
     "data": {
      "image/png": "[encoded data removed]",
      "text/plain": [
       "<Figure size 432x288 with 1 Axes>"
      ]
     },
     "metadata": {
      "needs_background": "light"
     },
     "output_type": "display_data"
    }
   ],
   "source": [
    "plt.bar(degree_values, histogram)\n",
    "plt.xlabel('Degree')\n",
    "plt.ylabel('Fraction of Nodes')\n",
    "plt.show()"
   ]
  },
  {
   "cell_type": "markdown",
   "metadata": {},
   "source": [
    "We can see that most nodes have degree 6"
   ]
  },
  {
   "cell_type": "markdown",
   "metadata": {},
   "source": [
    "#### The Small World Model fails on  degree distribution (no power law)"
   ]
  },
  {
   "cell_type": "markdown",
   "metadata": {},
   "source": [
    "**Question**: Is the degree distribution of small world network a power law distribution?\n",
    "\n",
    "\n",
    "**Answer**: No\n"
   ]
  },
  {
   "cell_type": "markdown",
   "metadata": {},
   "source": [
    "The degree distribution of small world network is **not a power law** because the degree of most nodes lie in the middle (as we can see in the histogram).\n",
    "\n",
    "The Small World Model **correctly captures** two properties: \n",
    "- high clustering coefficient\n",
    "- small average shortest path\n",
    "\n",
    "but **fails to capture**:\n",
    "- power law degree distribution\n",
    "\n"
   ]
  },
  {
   "cell_type": "markdown",
   "metadata": {},
   "source": [
    "**In contrast**, the Preferential Attachment Model gets right the power law degree distribution, and the small avg shortes path."
   ]
  },
  {
   "cell_type": "markdown",
   "metadata": {},
   "source": [
    "#### Variants of Small Network Model in NetworkX"
   ]
  },
  {
   "cell_type": "markdown",
   "metadata": {},
   "source": [
    "Variants in networkx:\n",
    "\n",
    "1. Connected Watts Strogatz (connected small world):\n",
    "\n",
    "    * Small networks can be disconnected, which is sometimes undesirable.\n",
    "\n",
    "    * `nx.connected_watts_strogatz_graph(n, k, p, t)` construct the network several times (at most $t$ times), until it finds a connected small world network (or raise a failure if tried $t+1$ times) \n",
    "    \n",
    "\n",
    "2. Newman-Watts-Strogatz:\n",
    "\n",
    "    * `nx.newman_watts_strogatz_graph(n, k, p)` runs a model similar to the Small World Model, but instead of rewiring edges, new edges are added with probability $p$."
   ]
  },
  {
   "cell_type": "markdown",
   "metadata": {},
   "source": [
    "######  Example of variation 1: connected small world"
   ]
  },
  {
   "cell_type": "code",
   "execution_count": 96,
   "metadata": {},
   "outputs": [],
   "source": [
    "n, k, p = 1000, 6, 0.04  # parameter of the Small World Model\n",
    "t = 1000 # number or attempts to find a connected network\n",
    "\n",
    "G = nx.connected_watts_strogatz_graph(n, k, p, t)"
   ]
  },
  {
   "cell_type": "markdown",
   "metadata": {},
   "source": [
    "######  Example of variation 2:"
   ]
  },
  {
   "cell_type": "code",
   "execution_count": 97,
   "metadata": {},
   "outputs": [],
   "source": [
    "G = nx.newman_watts_strogatz_graph(n, k, p)  # variation 2"
   ]
  },
  {
   "cell_type": "markdown",
   "metadata": {},
   "source": [
    "### Summary"
   ]
  },
  {
   "cell_type": "markdown",
   "metadata": {},
   "source": [
    "* Real social networks appear to have small shortest path between nodes and high clustering coefficient.\n",
    "\n",
    "\n",
    "* The preferential attachment model produces networks with small shortest path but very small clustering coefficient.\n",
    "\n",
    "\n",
    "* The Small World Model starts with a ring lattice with nodes connected to its $k$ nearest neighbors (high local clustering), and then rewires edges with probability $p$.\n",
    "\n",
    "\n",
    "* For small values of p, small world networks have small average shortest path and high clustering coefficient, matching what we observe in real networks.\n",
    "\n",
    "\n",
    "* However, the degree distribution or a small world network is not a power law.\n",
    "\n",
    "\n",
    "* On networkx use function `nx.watts_strogatz_graph(n, k, p)` (and other variants) to generate small world networks."
   ]
  },
  {
   "cell_type": "markdown",
   "metadata": {},
   "source": [
    "## Lecture 3: Link prediction"
   ]
  },
  {
   "cell_type": "markdown",
   "metadata": {},
   "source": [
    "What new edges are likely to form in a network?\n",
    "\n",
    "More specificly let's formulate the problemin this way: Given a pair of nodes, how to assess if they are likely to connect in the future?\n",
    "\n",
    "In this lecture we go over 7 different measures that may help to assess if a pair of nodes is likely to form a connection in the future.\n"
   ]
  },
  {
   "cell_type": "markdown",
   "metadata": {},
   "source": [
    "*Note: Recall we talked about **triadic closure**, which is the tendency for people who share a connection to become connected*"
   ]
  },
  {
   "cell_type": "markdown",
   "metadata": {},
   "source": [
    "Let's load the example graph that tha instructor is using *(see lecture video time 1:07)*:"
   ]
  },
  {
   "cell_type": "code",
   "execution_count": 165,
   "metadata": {},
   "outputs": [],
   "source": [
    "G = nx.Graph()\n",
    "G.add_edges_from([('A', 'B'), ('A', 'D'), ('A', 'E'),\n",
    "                  ('B', 'C'), ('B', 'D'), \n",
    "                  ('C', 'D'), ('C', 'F'),\n",
    "                  ('E', 'F'), ('E', 'G'), \n",
    "                  ('F', 'G'),\n",
    "                  ('G', 'H'), ('G', 'I'),\n",
    "                 ])"
   ]
  },
  {
   "cell_type": "markdown",
   "metadata": {},
   "source": [
    "### Measure I: Common neighbors"
   ]
  },
  {
   "cell_type": "markdown",
   "metadata": {},
   "source": [
    "The number of common neighbors of nodes $X$ and $Y$ is:\n",
    "\n",
    "$$ \\text{comm_neigh}(X, Y) = \\left\\vert N(X) \\cap N(Y) \\right\\vert $$\n",
    "\n",
    "where $N(X)$ is the set of neighbors of node $X$"
   ]
  },
  {
   "cell_type": "markdown",
   "metadata": {},
   "source": [
    "So, in our example graph: \n",
    "\n",
    "$ \\text{comm_neigh}(A, C) = \\left\\vert \\left\\{ B, D \\right\\} \\right\\vert = 2 $ , because nodes $A$ and $C$ only have $B$ and $D$ as common neighbors.\n",
    "\n",
    "*(see lecture video time 2:19)*"
   ]
  },
  {
   "cell_type": "markdown",
   "metadata": {},
   "source": [
    "#### Common neighbors in networkx"
   ]
  },
  {
   "cell_type": "markdown",
   "metadata": {},
   "source": [
    "In networkx you can use the function `nx.common_neighbors(G, n1, n2)` to obtain a generator that produces all the common neighbors of the nodes n1 and n2. \n",
    "\n",
    "For example:"
   ]
  },
  {
   "cell_type": "code",
   "execution_count": 166,
   "metadata": {},
   "outputs": [
    {
     "data": {
      "text/plain": [
       "['B', 'D']"
      ]
     },
     "execution_count": 166,
     "metadata": {},
     "output_type": "execute_result"
    }
   ],
   "source": [
    "gen = nx.common_neighbors(G, 'A', 'C')\n",
    "list(gen)"
   ]
  },
  {
   "cell_type": "markdown",
   "metadata": {},
   "source": [
    "A usefull networkx function is `nx.non_edges(G)`, which returns all pair of nodes in the graph that are not already connected (do not share an edge):"
   ]
  },
  {
   "cell_type": "code",
   "execution_count": 167,
   "metadata": {
    "scrolled": true
   },
   "outputs": [
    {
     "name": "stdout",
     "output_type": "stream",
     "text": [
      "[('G', 'A'), ('G', 'D'), ('G', 'B'), ('G', 'C'), ('F', 'A'), ('F', 'I'), ('F', 'H'), ('F', 'D'), ('F', 'B'), ('C', 'H'), ('C', 'A'), ('C', 'E'), ('C', 'I'), ('A', 'H'), ('A', 'I'), ('I', 'H'), ('I', 'D'), ('I', 'E'), ('I', 'B'), ('H', 'D'), ('H', 'E'), ('H', 'B'), ('D', 'E'), ('E', 'B')]\n"
     ]
    }
   ],
   "source": [
    "gen = nx.non_edges(G)  # all pair of nodes that do not share an edge\n",
    "\n",
    "print(list(gen))"
   ]
  },
  {
   "cell_type": "markdown",
   "metadata": {},
   "source": [
    "Now let's count how many common neighbor each pair of nodes has (only including nodes that do not share the same edge):"
   ]
  },
  {
   "cell_type": "code",
   "execution_count": 168,
   "metadata": {},
   "outputs": [],
   "source": [
    "common_neigh = [(n1, n2, len(list(nx.common_neighbors(G, n1, n2))))  for n1, n2 in nx.non_edges(G)]"
   ]
  },
  {
   "cell_type": "code",
   "execution_count": 169,
   "metadata": {
    "scrolled": true
   },
   "outputs": [
    {
     "data": {
      "text/plain": [
       "[('C', 'A', 2),\n",
       " ('G', 'A', 1),\n",
       " ('G', 'C', 1),\n",
       " ('F', 'A', 1),\n",
       " ('F', 'I', 1),\n",
       " ('F', 'H', 1),\n",
       " ('F', 'D', 1),\n",
       " ('F', 'B', 1),\n",
       " ('C', 'E', 1),\n",
       " ('I', 'H', 1),\n",
       " ('I', 'E', 1),\n",
       " ('H', 'E', 1),\n",
       " ('D', 'E', 1),\n",
       " ('E', 'B', 1),\n",
       " ('G', 'D', 0),\n",
       " ('G', 'B', 0),\n",
       " ('C', 'H', 0),\n",
       " ('C', 'I', 0),\n",
       " ('A', 'H', 0),\n",
       " ('A', 'I', 0),\n",
       " ('I', 'D', 0),\n",
       " ('I', 'B', 0),\n",
       " ('H', 'D', 0),\n",
       " ('H', 'B', 0)]"
      ]
     },
     "execution_count": 169,
     "metadata": {},
     "output_type": "execute_result"
    }
   ],
   "source": [
    "from operator import itemgetter\n",
    "common_neigh_ordered = sorted(common_neigh, key=itemgetter(2), reverse=True)\n",
    "\n",
    "common_neigh_ordered"
   ]
  },
  {
   "cell_type": "markdown",
   "metadata": {},
   "source": [
    "So, according to this measure, the pair (A, C) is the most likely to form a new connection."
   ]
  },
  {
   "cell_type": "markdown",
   "metadata": {},
   "source": [
    "### Measure 2: Jaccard Coefficient"
   ]
  },
  {
   "cell_type": "markdown",
   "metadata": {},
   "source": [
    "Number of common neighbors normalized by the total number of neighbors.\n",
    "\n",
    "The Jaccard coefficient of nodes X, Y is:\n",
    "\n",
    "$$ \\text{jacc_coeff}(X, Y) =  \\frac{\\left\\vert N(X) \\cap N(Y) \\right\\vert}{\\left\\vert N(X) \\cup N(Y) \\right\\vert}  $$\n",
    "\n",
    "where $N(X)$ is the set of neighbors of node $X$"
   ]
  },
  {
   "cell_type": "markdown",
   "metadata": {},
   "source": [
    "So, in our example graph, for nodes $A, C$:\n",
    "\n",
    "\n",
    "$$ \\text{jacc_coeff}(A, C) =  \\frac{\\left\\vert \\{B, D\\} \\right\\vert}{\\left\\vert \\{B, D, E, F\\} \\right\\vert} = \\frac{2}{4} = \\frac{1}{2} $$\n",
    "\n",
    "\n",
    "*(see lecture video time 4:20)*"
   ]
  },
  {
   "cell_type": "markdown",
   "metadata": {},
   "source": [
    "#### Jaccard Coefficient in NetworkX"
   ]
  },
  {
   "cell_type": "markdown",
   "metadata": {},
   "source": [
    "In networkx you can use the function `nx.jaccard_coefficient(G)` to obtain a generator that outputs tuples with the 2 nodes and their Jaccard Coefficient, importantly it only includes pairs of nodes that are not already connected *(so, no need to use the function non_edges(G) as we did before)*."
   ]
  },
  {
   "cell_type": "code",
   "execution_count": 181,
   "metadata": {},
   "outputs": [],
   "source": [
    "L = list(nx.jaccard_coefficient(G))"
   ]
  },
  {
   "cell_type": "code",
   "execution_count": 182,
   "metadata": {
    "scrolled": true
   },
   "outputs": [
    {
     "data": {
      "text/plain": [
       "[('I', 'H', 1.0),\n",
       " ('C', 'A', 0.5),\n",
       " ('F', 'I', 0.3333333333333333),\n",
       " ('F', 'H', 0.3333333333333333),\n",
       " ('I', 'E', 0.3333333333333333),\n",
       " ('H', 'E', 0.3333333333333333),\n",
       " ('F', 'A', 0.2),\n",
       " ('F', 'D', 0.2),\n",
       " ('F', 'B', 0.2),\n",
       " ('C', 'E', 0.2),\n",
       " ('D', 'E', 0.2),\n",
       " ('E', 'B', 0.2),\n",
       " ('G', 'A', 0.16666666666666666),\n",
       " ('G', 'C', 0.16666666666666666),\n",
       " ('G', 'D', 0.0),\n",
       " ('G', 'B', 0.0),\n",
       " ('C', 'H', 0.0),\n",
       " ('C', 'I', 0.0),\n",
       " ('A', 'H', 0.0),\n",
       " ('A', 'I', 0.0),\n",
       " ('I', 'D', 0.0),\n",
       " ('I', 'B', 0.0),\n",
       " ('H', 'D', 0.0),\n",
       " ('H', 'B', 0.0)]"
      ]
     },
     "execution_count": 182,
     "metadata": {},
     "output_type": "execute_result"
    }
   ],
   "source": [
    "L.sort(key=itemgetter(2), reverse=True)\n",
    "L"
   ]
  },
  {
   "cell_type": "markdown",
   "metadata": {},
   "source": [
    "So, according to this measure, the pair (I, H) is the most likely to form a new connection, while (A, C) is less likely. \n",
    "\n",
    "Why?\n",
    "\n",
    "Because I and H are connected to a single neighbor, so this connection is more relevant. While A and C are both connected to many more nodes that they do not share as common neighbors."
   ]
  },
  {
   "cell_type": "markdown",
   "metadata": {},
   "source": [
    "### Measure 3: Resource Allocation Index"
   ]
  },
  {
   "cell_type": "markdown",
   "metadata": {},
   "source": [
    "Fraction of a resource that a node can send to another through their common neighbors.\n",
    "\n",
    "\n",
    "*Similar to the distribution of a radioactive marked fluid in a water pipe network*\n"
   ]
  },
  {
   "cell_type": "markdown",
   "metadata": {},
   "source": [
    "* Consider the initial node as a \"source\" attempting to send a \"resource\" to a destination node through all paths that lead to it (pipes).\n",
    "\n",
    "\n",
    "* Consider common neighbor nodes as dumb pipe hubs that just distribute in equal parts whatever resource flow they take in (they \"emanate\" the resource in equal parts through all the edges)  "
   ]
  },
  {
   "cell_type": "markdown",
   "metadata": {},
   "source": [
    "The Resource Allocation index of nodes $X$ and $Y$ is\n",
    "\n",
    "\n",
    "$$ \\text{res_alloc}(X, Y) = \\sum_{u \\in N(X) \\cap N(Y)} \\frac{1}{ \\left\\vert N(u) \\right\\vert } $$\n",
    "\n",
    "where:\n",
    "- $N(u)$ is the set of all the neighbors of node u.\n",
    "\n",
    "- $ \\left\\vert N(u) \\right\\vert = d_u $ is the size of the set neighbors (a.k.a. the degree of node u)."
   ]
  },
  {
   "cell_type": "markdown",
   "metadata": {},
   "source": [
    "So, in our example graph, for nodes $A, C$:\n",
    "\n",
    "\n",
    "$$ \\text{res_alloc}(A, C) =  \\frac{1}{3} + \\frac{1}{3} = \\frac{2}{3} $$\n",
    "\n",
    "\n",
    "*(see lecture video time 7:40)*"
   ]
  },
  {
   "cell_type": "markdown",
   "metadata": {},
   "source": [
    "#### Resource Allocation in NetworkX"
   ]
  },
  {
   "cell_type": "markdown",
   "metadata": {},
   "source": [
    "In networkx you can use the function `nx.resource_allocation_index(G)` to obtain a generator that outputs tuples with the 2 nodes and their resource allocation index. Importantly, it only includes pairs of nodes that are not already connected *(so, no need to use the function non_edges(G) as we did before)*. "
   ]
  },
  {
   "cell_type": "code",
   "execution_count": 183,
   "metadata": {},
   "outputs": [],
   "source": [
    "L = list(nx.resource_allocation_index(G))"
   ]
  },
  {
   "cell_type": "code",
   "execution_count": 184,
   "metadata": {
    "scrolled": true
   },
   "outputs": [
    {
     "data": {
      "text/plain": [
       "[('C', 'A', 0.6666666666666666),\n",
       " ('G', 'A', 0.3333333333333333),\n",
       " ('G', 'C', 0.3333333333333333),\n",
       " ('F', 'A', 0.3333333333333333),\n",
       " ('F', 'D', 0.3333333333333333),\n",
       " ('F', 'B', 0.3333333333333333),\n",
       " ('C', 'E', 0.3333333333333333),\n",
       " ('D', 'E', 0.3333333333333333),\n",
       " ('E', 'B', 0.3333333333333333),\n",
       " ('F', 'I', 0.25),\n",
       " ('F', 'H', 0.25),\n",
       " ('I', 'H', 0.25),\n",
       " ('I', 'E', 0.25),\n",
       " ('H', 'E', 0.25),\n",
       " ('G', 'D', 0),\n",
       " ('G', 'B', 0),\n",
       " ('C', 'H', 0),\n",
       " ('C', 'I', 0),\n",
       " ('A', 'H', 0),\n",
       " ('A', 'I', 0),\n",
       " ('I', 'D', 0),\n",
       " ('I', 'B', 0),\n",
       " ('H', 'D', 0),\n",
       " ('H', 'B', 0)]"
      ]
     },
     "execution_count": 184,
     "metadata": {},
     "output_type": "execute_result"
    }
   ],
   "source": [
    "L.sort(key=itemgetter(2), reverse=True)\n",
    "L"
   ]
  },
  {
   "cell_type": "markdown",
   "metadata": {},
   "source": [
    "So, according to this measure, the pair (A, C) is the most likely to form a new connection.\n",
    "\n",
    "Also notice that (A, G) has higher score than (I, H), this is because A and G are connected through a node with degree 3 (node E); while H and I are connected through a node with degree 4 (node G). \n"
   ]
  },
  {
   "cell_type": "markdown",
   "metadata": {},
   "source": [
    "### Measure 4: Adamic-Adar Index"
   ]
  },
  {
   "cell_type": "markdown",
   "metadata": {},
   "source": [
    "Similar to the resource allocation index, but with $log(d_u)$ in the denominator."
   ]
  },
  {
   "cell_type": "markdown",
   "metadata": {},
   "source": [
    "The Adamic-Adar index of nodes $X$ and $Y$ is\n",
    "\n",
    "$$ \\text{adamic_adar}(X, Y) = \\sum_{u \\in N(X) \\cap N(Y)} \\frac{1}{ log( \\left\\vert N(u) \\right\\vert ) } $$\n",
    "\n",
    "where:\n",
    "- $N(u)$ is the set of all the neighbors of node u.\n",
    "\n",
    "- $ \\left\\vert N(u) \\right\\vert = d_u $ is the size of the set neighbors (a.k.a. the degree of node u)."
   ]
  },
  {
   "cell_type": "markdown",
   "metadata": {},
   "source": [
    "So, in our example graph, for nodes $A, C$:\n",
    "\n",
    "\n",
    "$$ \\text{adamic_adar}(A, C) =  \\frac{1}{log(3)} + \\frac{1}{log(3)} = 1.82 $$\n",
    "\n",
    "\n",
    "*(see lecture video time 8:50)*"
   ]
  },
  {
   "cell_type": "markdown",
   "metadata": {},
   "source": [
    "#### Adamic-Adar index in NetworkX"
   ]
  },
  {
   "cell_type": "markdown",
   "metadata": {},
   "source": [
    "In networkx you can use the function `nx.adamic_adar_index(G)` to obtain a generator that outputs tuples with the 2 nodes and their Adamic-Adar Index. Importantly, it only includes pairs of nodes that are not already connected *(so, no need to use the function non_edges(G) as we did before)*."
   ]
  },
  {
   "cell_type": "code",
   "execution_count": 185,
   "metadata": {
    "scrolled": true
   },
   "outputs": [],
   "source": [
    "L = list(nx.adamic_adar_index(G))"
   ]
  },
  {
   "cell_type": "code",
   "execution_count": 186,
   "metadata": {
    "scrolled": true
   },
   "outputs": [
    {
     "data": {
      "text/plain": [
       "[('C', 'A', 1.8204784532536746),\n",
       " ('G', 'A', 0.9102392266268373),\n",
       " ('G', 'C', 0.9102392266268373),\n",
       " ('F', 'A', 0.9102392266268373),\n",
       " ('F', 'D', 0.9102392266268373),\n",
       " ('F', 'B', 0.9102392266268373),\n",
       " ('C', 'E', 0.9102392266268373),\n",
       " ('D', 'E', 0.9102392266268373),\n",
       " ('E', 'B', 0.9102392266268373),\n",
       " ('F', 'I', 0.7213475204444817),\n",
       " ('F', 'H', 0.7213475204444817),\n",
       " ('I', 'H', 0.7213475204444817),\n",
       " ('I', 'E', 0.7213475204444817),\n",
       " ('H', 'E', 0.7213475204444817),\n",
       " ('G', 'D', 0),\n",
       " ('G', 'B', 0),\n",
       " ('C', 'H', 0),\n",
       " ('C', 'I', 0),\n",
       " ('A', 'H', 0),\n",
       " ('A', 'I', 0),\n",
       " ('I', 'D', 0),\n",
       " ('I', 'B', 0),\n",
       " ('H', 'D', 0),\n",
       " ('H', 'B', 0)]"
      ]
     },
     "execution_count": 186,
     "metadata": {},
     "output_type": "execute_result"
    }
   ],
   "source": [
    "L.sort(key=itemgetter(2), reverse=True)\n",
    "L"
   ]
  },
  {
   "cell_type": "markdown",
   "metadata": {},
   "source": [
    "The result order is very similar to the Resource Allocation index (they differ only on the log in the denominator)."
   ]
  },
  {
   "cell_type": "markdown",
   "metadata": {},
   "source": [
    "### Measure 5: Preferential Attachment score"
   ]
  },
  {
   "cell_type": "markdown",
   "metadata": {},
   "source": [
    "Recall that in the preferential attachment model, nodes with high degree are more likely to get more connections.\n",
    "\n",
    "The assumption of this measure is that if we have a pair of nodes, and both have high degree, then they are more likely to be connected in the future... One easy way to do this is to multiply the degrees of the two nodes.\n"
   ]
  },
  {
   "cell_type": "markdown",
   "metadata": {},
   "source": [
    "The preferential attachment score of node $X$ and $Y$ is\n",
    "\n",
    "\n",
    "$$ \\text{pref_attach}(X,Y) = \\vert N(X) \\vert \\vert N(X) \\vert  $$\n",
    "\n",
    "where:\n",
    "- $N(X)$ is the set of all the neighbors of node X.\n",
    "\n",
    "- $ \\left\\vert N(X) \\right\\vert = d_X $ is the size of the set neighbors (a.k.a. the degree of node X)."
   ]
  },
  {
   "cell_type": "markdown",
   "metadata": {},
   "source": [
    "#### Preferential attachment score in NetworkX"
   ]
  },
  {
   "cell_type": "markdown",
   "metadata": {},
   "source": [
    "In networkx you can use the function `nx.preferential_attachment(G)` to obtain a generator that outputs tuples with the 2 nodes and their Preferential Attachment score. Importantly, it only includes pairs of nodes that are not already connected *(so, no need to use the function non_edges(G) as we did before)*."
   ]
  },
  {
   "cell_type": "code",
   "execution_count": 187,
   "metadata": {},
   "outputs": [],
   "source": [
    "L = list(nx.preferential_attachment(G))"
   ]
  },
  {
   "cell_type": "code",
   "execution_count": 188,
   "metadata": {
    "scrolled": true
   },
   "outputs": [
    {
     "data": {
      "text/plain": [
       "[('G', 'A', 12),\n",
       " ('G', 'D', 12),\n",
       " ('G', 'B', 12),\n",
       " ('G', 'C', 12),\n",
       " ('F', 'A', 9),\n",
       " ('F', 'D', 9),\n",
       " ('F', 'B', 9),\n",
       " ('C', 'A', 9),\n",
       " ('C', 'E', 9),\n",
       " ('D', 'E', 9),\n",
       " ('E', 'B', 9),\n",
       " ('F', 'I', 3),\n",
       " ('F', 'H', 3),\n",
       " ('C', 'H', 3),\n",
       " ('C', 'I', 3),\n",
       " ('A', 'H', 3),\n",
       " ('A', 'I', 3),\n",
       " ('I', 'D', 3),\n",
       " ('I', 'E', 3),\n",
       " ('I', 'B', 3),\n",
       " ('H', 'D', 3),\n",
       " ('H', 'E', 3),\n",
       " ('H', 'B', 3),\n",
       " ('I', 'H', 1)]"
      ]
     },
     "execution_count": 188,
     "metadata": {},
     "output_type": "execute_result"
    }
   ],
   "source": [
    "L.sort(key=itemgetter(2), reverse=True)\n",
    "L"
   ]
  },
  {
   "cell_type": "markdown",
   "metadata": {},
   "source": [
    "### Measures that take  Community Structure into account\n",
    "\n",
    "Some measures consider the community structure of the network for link prediction.\n",
    "\n",
    "For example: In a network of communications between employees in a company, then the department for which employees works for will define the community. Then the network will have several communities like Human Resources, Legal, Operations, IT, ...\n",
    "\n",
    "The basic assumption here is that pair of nodes that belong to the same community and have many common neighbors in their community are more likely to form a connection in the future."
   ]
  },
  {
   "cell_type": "markdown",
   "metadata": {},
   "source": [
    "To illustrate how the knowledge of the community structure can help with the link prediction problem: \n",
    "\n",
    "* We will extend our example network with a node attribute that describes which community each node belongs to. \n",
    "\n",
    "\n",
    "* We will assume the network is divided into 2 communities:\n",
    "\n",
    "    - **Community 1**: Nodes A, B, C, D\n",
    "\n",
    "    - **Community 2**: Nodes E, F, G, H, I\n",
    "\n",
    "*(See lecture video time 11:33 for a figure showing the 2 communities we have divided the network into)*"
   ]
  },
  {
   "cell_type": "markdown",
   "metadata": {},
   "source": [
    "Now we study two new measures that consider the community structure of the network. They can be used as link prediction scores."
   ]
  },
  {
   "cell_type": "markdown",
   "metadata": {},
   "source": [
    "### Measure 6: Community Common Neighbors"
   ]
  },
  {
   "cell_type": "markdown",
   "metadata": {},
   "source": [
    "Number of common neighbors with bonus for neighbors in the same community.\n",
    "\n"
   ]
  },
  {
   "cell_type": "markdown",
   "metadata": {},
   "source": [
    "The **Common Neighbor Soundarajan-Hopcroft score** of node $X$ and $Y$ is\n",
    "\n",
    "$$ \\text{cn_soundarajan_hopcroft}(X, Y) = \\left\\vert N(X) \\cap N(Y) \\right\\vert + \\sum_{u \\in N(X) \\cap N(Y) } f(u) $$\n",
    "\n",
    "\n",
    "where:\n",
    "\n",
    "- $ f(u) = \\begin{cases}\n",
    "1,   &   \\text{if u is in the same community as X and Y} \\\\\n",
    "0,   &   \\text{otherwise}\n",
    "\\end{cases} $\n",
    "\n",
    "- $N(X)$ is the set of all the neighbors of node X.\n"
   ]
  },
  {
   "cell_type": "markdown",
   "metadata": {},
   "source": [
    "So, in our example graph, for nodes $A, C$:\n",
    "\n",
    "\n",
    "$$ \\text{cn_soundarajan_hopcroft}(A, C) =  2 + 2 = 4 $$\n",
    "\n",
    "\n",
    "while for modes $E, I$ and $A, G$:\n",
    "\n",
    "$$ \\text{cn_soundarajan_hopcroft}(E, I) =  1 + 1 = 2 $$\n",
    "\n",
    "$$ \\text{cn_soundarajan_hopcroft}(A, G) =  1 + 0 = 1 $$\n",
    "\n",
    "\n",
    "*(see lecture video time 13:00)*"
   ]
  },
  {
   "cell_type": "markdown",
   "metadata": {},
   "source": [
    "#### Community common neighbors in NetworkX"
   ]
  },
  {
   "cell_type": "markdown",
   "metadata": {},
   "source": [
    "Assign the communities each node belong to, by adding a node attribute **\"community\"**:\n"
   ]
  },
  {
   "cell_type": "code",
   "execution_count": 189,
   "metadata": {},
   "outputs": [],
   "source": [
    "G.node['A']['community'] = 0\n",
    "G.node['B']['community'] = 0\n",
    "G.node['C']['community'] = 0\n",
    "G.node['D']['community'] = 0\n",
    "\n",
    "G.node['E']['community'] = 1\n",
    "G.node['F']['community'] = 1\n",
    "G.node['G']['community'] = 1\n",
    "G.node['H']['community'] = 1\n",
    "G.node['I']['community'] = 1"
   ]
  },
  {
   "cell_type": "markdown",
   "metadata": {},
   "source": [
    "*(see lecture video time 13:40 for a figure depecting the nodes in each community)*"
   ]
  },
  {
   "cell_type": "markdown",
   "metadata": {},
   "source": [
    "In networkx you can use the function `nx.cn_soundarajan_hopcroft(G)` to obtain a generator that outputs tuples with the 2 nodes and their Community Common Neighbors score. Importantly, it only includes pairs of nodes that are not already connected *(so, no need to use the function non_edges(G) as we did before)*."
   ]
  },
  {
   "cell_type": "code",
   "execution_count": 190,
   "metadata": {},
   "outputs": [],
   "source": [
    "L = list(nx.cn_soundarajan_hopcroft(G))"
   ]
  },
  {
   "cell_type": "code",
   "execution_count": 192,
   "metadata": {
    "scrolled": true
   },
   "outputs": [
    {
     "data": {
      "text/plain": [
       "[('C', 'A', 4),\n",
       " ('F', 'I', 2),\n",
       " ('F', 'H', 2),\n",
       " ('I', 'H', 2),\n",
       " ('I', 'E', 2),\n",
       " ('H', 'E', 2),\n",
       " ('G', 'A', 1),\n",
       " ('G', 'C', 1),\n",
       " ('F', 'A', 1),\n",
       " ('F', 'D', 1),\n",
       " ('F', 'B', 1),\n",
       " ('C', 'E', 1),\n",
       " ('D', 'E', 1),\n",
       " ('E', 'B', 1),\n",
       " ('G', 'D', 0),\n",
       " ('G', 'B', 0),\n",
       " ('C', 'H', 0),\n",
       " ('C', 'I', 0),\n",
       " ('A', 'H', 0),\n",
       " ('A', 'I', 0),\n",
       " ('I', 'D', 0),\n",
       " ('I', 'B', 0),\n",
       " ('H', 'D', 0),\n",
       " ('H', 'B', 0)]"
      ]
     },
     "execution_count": 192,
     "metadata": {},
     "output_type": "execute_result"
    }
   ],
   "source": [
    "L.sort(key=itemgetter(2), reverse=True)\n",
    "L"
   ]
  },
  {
   "cell_type": "markdown",
   "metadata": {},
   "source": [
    "So, according to this measure, the pair (A, C) is the most likely to form a new connection.\n",
    "\n",
    "Also notice that (I, H) has higher score than (A, G). This is because A and G are in different communities so they get 0 bonus ($\\sum f(u) = 0$); while I and H are in the same community so they get a +1 bonus. \n"
   ]
  },
  {
   "cell_type": "markdown",
   "metadata": {},
   "source": [
    "### Measure 7: Community Resource Allocation"
   ]
  },
  {
   "cell_type": "markdown",
   "metadata": {},
   "source": [
    "Similar to Resource Allocation Index, but only considering nodes in the same community."
   ]
  },
  {
   "cell_type": "markdown",
   "metadata": {},
   "source": [
    "The **Resource Allocation Soundarajan-Hopcroft score** of node $X$ and $Y$ is\n",
    "\n",
    "$$ \\text{ra_soundarajan_hopcroft}(X, Y) = \\sum_{u \\in N(X) \\cap N(Y)} \\frac{f(u)}{ \\vert N(u) \\vert } $$\n",
    "\n",
    "\n",
    "where:\n",
    "\n",
    "- $ f(u) = \\begin{cases}\n",
    "1,   &   \\text{if u is in the same community as X and Y} \\\\\n",
    "0,   &   \\text{otherwise}\n",
    "\\end{cases} $\n",
    "\n",
    "- $N(u)$ is the set of all the neighbors of node $u$ (a.k.a. the node degree: $d_u$).\n"
   ]
  },
  {
   "cell_type": "markdown",
   "metadata": {},
   "source": [
    "So, in our example graph, for nodes $A, C$:\n",
    "\n",
    "\n",
    "$$ \\text{ra_soundarajan_hopcroft}(A, C) =  \\frac{1}{3} + \\frac{1}{3} = \\frac{2}{3} $$\n",
    "\n",
    "\n",
    "while for modes $E, I$ and $A, G$:\n",
    "\n",
    "$$ \\text{ra_soundarajan_hopcroft}(E, I) =  \\frac{1}{4} $$\n",
    "\n",
    "$$ \\text{ra_soundarajan_hopcroft}(A, G) =  0 $$\n",
    "\n",
    "\n",
    "*(see lecture video time 15:50)*"
   ]
  },
  {
   "cell_type": "markdown",
   "metadata": {},
   "source": [
    "#### Community resource allocation in NetworkX"
   ]
  },
  {
   "cell_type": "markdown",
   "metadata": {},
   "source": [
    "In networkx you can use the function `nx.ra_index_soundarajan_hopcroft(G)` to obtain a generator that outputs tuples with the 2 nodes and their Community Resource Allocation score. Importantly, it only includes pairs of nodes that are not already connected *(so, no need to use the function non_edges(G) as we did before)*."
   ]
  },
  {
   "cell_type": "code",
   "execution_count": 195,
   "metadata": {},
   "outputs": [],
   "source": [
    "L = list(nx.ra_index_soundarajan_hopcroft(G))"
   ]
  },
  {
   "cell_type": "code",
   "execution_count": 196,
   "metadata": {
    "scrolled": true
   },
   "outputs": [
    {
     "data": {
      "text/plain": [
       "[('C', 'A', 0.6666666666666666),\n",
       " ('F', 'I', 0.25),\n",
       " ('F', 'H', 0.25),\n",
       " ('I', 'H', 0.25),\n",
       " ('I', 'E', 0.25),\n",
       " ('H', 'E', 0.25),\n",
       " ('G', 'A', 0),\n",
       " ('G', 'D', 0),\n",
       " ('G', 'B', 0),\n",
       " ('G', 'C', 0),\n",
       " ('F', 'A', 0),\n",
       " ('F', 'D', 0),\n",
       " ('F', 'B', 0),\n",
       " ('C', 'H', 0),\n",
       " ('C', 'E', 0),\n",
       " ('C', 'I', 0),\n",
       " ('A', 'H', 0),\n",
       " ('A', 'I', 0),\n",
       " ('I', 'D', 0),\n",
       " ('I', 'B', 0),\n",
       " ('H', 'D', 0),\n",
       " ('H', 'B', 0),\n",
       " ('D', 'E', 0),\n",
       " ('E', 'B', 0)]"
      ]
     },
     "execution_count": 196,
     "metadata": {},
     "output_type": "execute_result"
    }
   ],
   "source": [
    "L.sort(key=itemgetter(2), reverse=True)\n",
    "L"
   ]
  },
  {
   "cell_type": "markdown",
   "metadata": {},
   "source": [
    "So, according to this measure, the pair (A, C) is the most likely to form a new connection.\n",
    "\n",
    "Also notice that (I, H) has higher score than (A, G). This is because A and G are in different communities so they get 0 score ($f(u) = 0$); while I and H are in the same community. \n"
   ]
  },
  {
   "cell_type": "markdown",
   "metadata": {},
   "source": [
    "### How to apply this measures for link prediction in practice"
   ]
  },
  {
   "cell_type": "markdown",
   "metadata": {},
   "source": [
    "We need to point out 2 things:\n",
    "\n",
    "1. None of these measures actually predicts if a particular edge is going to be formed in the future. They just give a score that is an indication of whether two nodes are likely to connect.\n",
    "\n",
    "\n",
    "2. Different meassures differ on which pair of nodes get higher scores than others. So these measures are not necessarily consistent with each other.\n"
   ]
  },
  {
   "cell_type": "markdown",
   "metadata": {},
   "source": [
    "**In practice**, if you are trying to solve the link prediction problem for a particular network, typically you will use these measures as **features** to add to the **existing data on past link formation** and then you will **train a classifier** in order to make the actual predictions.  "
   ]
  },
  {
   "cell_type": "markdown",
   "metadata": {},
   "source": [
    "### Summary"
   ]
  },
  {
   "cell_type": "markdown",
   "metadata": {},
   "source": [
    "* Link prediction problem: Given a network, predict which edges will be formed in the future.\n",
    "\n",
    "\n",
    "* 5 basic measures:\n",
    "    - Number of Common Neighbors\n",
    "    - Jaccard Coefficient\n",
    "    - Resource Allocation Index\n",
    "    - Adamic-Adar Index\n",
    "    - Preferential Attachment Score\n",
    "    \n",
    "\n",
    "* 2 measures that require community information:\n",
    "\n",
    "    - Common Neighbor Soundarajan-Hopcroft Score\n",
    "    - Resource Allocation Soundarajan-Hopcroft Score\n",
    "    \n"
   ]
  },
  {
   "cell_type": "markdown",
   "metadata": {},
   "source": [
    "-----"
   ]
  },
  {
   "cell_type": "markdown",
   "metadata": {},
   "source": [
    "## Optional Readings for Week 4"
   ]
  },
  {
   "cell_type": "markdown",
   "metadata": {},
   "source": [
    "### Power Laws and Rich-Get-Richer Phenomena (Optional)\n",
    "\n",
    "Read Chapter 18 from \"Networks, Crowds, and Markets: Reasoning about a Highly Connected World\" By David Easley and Jon Kleinberg. Cambridge University Press, 2010 for an interesting read on Power Laws and Rich-Get-Richer phenomena such as the preferential attachment model.\n",
    "\n",
    "http://www.cs.cornell.edu/home/kleinber/networks-book/networks-book-ch18.pdf"
   ]
  },
  {
   "cell_type": "markdown",
   "metadata": {},
   "source": [
    "### The Small-World Phenomenon (Optional)"
   ]
  },
  {
   "cell_type": "markdown",
   "metadata": {},
   "source": [
    "Read chapters 2 and 20 from \"Networks, Crowds, and Markets: Reasoning about a Highly Connected World\" By David Easley and Jon Kleinberg. Cambridge University Press, 2010 for a more in-depth take on the Small World Phenomenon.\n",
    "\n",
    "Chapter 2: http://www.cs.cornell.edu/home/kleinber/networks-book/networks-book-ch02.pdf\n",
    "\n",
    "Chapter 20: http://www.cs.cornell.edu/home/kleinber/networks-book/networks-book-ch20.pdf"
   ]
  },
  {
   "cell_type": "code",
   "execution_count": null,
   "metadata": {},
   "outputs": [],
   "source": []
  }
 ],
 "metadata": {
  "kernelspec": {
   "display_name": "Python (coursera_dscience_networkx1)",
   "language": "python",
   "name": "coursera_dscience_networkx1"
  },
  "language_info": {
   "codemirror_mode": {
    "name": "ipython",
    "version": 3
   },
   "file_extension": ".py",
   "mimetype": "text/x-python",
   "name": "python",
   "nbconvert_exporter": "python",
   "pygments_lexer": "ipython3",
   "version": "3.7.1"
  }
 },
 "nbformat": 4,
 "nbformat_minor": 2
}
