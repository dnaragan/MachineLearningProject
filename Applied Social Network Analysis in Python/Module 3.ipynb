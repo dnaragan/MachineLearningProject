{
 "cells": [
  {
   "cell_type": "markdown",
   "metadata": {},
   "source": [
    "# Module 3: Influence Measures and Network Centralization\n",
    "\n",
    "\n",
    "*The notes in this module use NetworkX version 1.11. I haven't tested any of the code on NetworkX version 2.*"
   ]
  },
  {
   "cell_type": "markdown",
   "metadata": {},
   "source": [
    "## About this Module\n",
    "\n",
    "In Module Three, you'll explore ways of measuring the importance or centrality of a node in a network, using measures such as Degree, Closeness, and Betweenness centrality, Page Rank, and Hubs and Authorities. You'll learn about the assumptions each measure makes, the algorithms we can use to compute them, and the different functions available on NetworkX to measure centrality. In the assignment, you'll practice choosing the most appropriate centrality measure on a real-world setting."
   ]
  },
  {
   "cell_type": "markdown",
   "metadata": {},
   "source": [
    "## Learning objectives\n",
    "\n",
    "* Identify and define several network centrality measures.\n",
    "* Describe the differences and similarities between several centrality measures.\n",
    "* Measure the centrality of nodes in a network using NetworkX.\n",
    "* Describe how network centrality measures can be used for real world applications.\n",
    "* Apply centrality analysis to real world networks."
   ]
  },
  {
   "cell_type": "markdown",
   "metadata": {},
   "source": [
    "## Lecture 1: Degree and Closeness Centrality"
   ]
  },
  {
   "cell_type": "markdown",
   "metadata": {},
   "source": [
    "### Network Centrality"
   ]
  },
  {
   "cell_type": "markdown",
   "metadata": {},
   "source": [
    "Centrality measures identify the most importat nodes in the network:\n",
    "\n",
    "* Influential nodes in a social network.\n",
    "* Nodes that disseminate information to other nodes.\n",
    "* Hubs in a transportation network.\n",
    "* Important pages on the web.\n",
    "* Nodes that prevent the network from breaking up."
   ]
  },
  {
   "cell_type": "markdown",
   "metadata": {},
   "source": [
    "List of centrality measures that are commonly used:\n",
    "\n",
    "* **Degree Centrality**    &nbsp;&nbsp;&nbsp;&nbsp;&nbsp;&nbsp;&nbsp;&nbsp;&nbsp;  <-- We cover this one\n",
    "* **Closeness Centrality**  &nbsp;&nbsp;&nbsp;   <-- We cover this one\n",
    "* Betweenness Centrality\n",
    "* Load Centrality\n",
    "* Page Rank\n",
    "* Katz Centrality\n",
    "* Percolation Centrality\n",
    "    "
   ]
  },
  {
   "cell_type": "markdown",
   "metadata": {},
   "source": [
    "### Degree Centrality"
   ]
  },
  {
   "cell_type": "markdown",
   "metadata": {},
   "source": [
    "**Assumption**: Important nodes have mane connections.\n",
    "\n",
    "This is the most basic way you can define centrality: number of neighbors.\n",
    "\n",
    "* For undirected networks: Use **degree**.\n",
    "\n",
    "* For directed networks: Use **in-degree** or **out-degree**.\n",
    "\n",
    "\n",
    "Mathematical definition of Degree Centrality of a node $v$:\n",
    "\n",
    "$$ C_{deg}(v) = \\frac{d_v}{ \\left\\vert N \\right\\vert - 1} $$ \n",
    "\n",
    "where:\n",
    "\n",
    "* N: Set of nodesin the network,\n",
    "* $d_v$: degree of the node $v$.\n",
    "\n",
    "So, by this definition: \n",
    "\n",
    "* a node that is connected to all nodes has **centrality 1**, \n",
    "* a node that is not connected to any node has **centrality 0**."
   ]
  },
  {
   "cell_type": "code",
   "execution_count": 3,
   "metadata": {},
   "outputs": [],
   "source": [
    "import networkx as nx\n",
    "\n",
    "# Let's load the karate club data\n",
    "G = nx.karate_club_graph()\n",
    "G = nx.convert_node_labels_to_integers(G, first_label=1)"
   ]
  },
  {
   "cell_type": "markdown",
   "metadata": {},
   "source": [
    "We can use the function `nx.degree_centrality(G)` to measure the centrality of all the nodes in the network:\n"
   ]
  },
  {
   "cell_type": "code",
   "execution_count": 5,
   "metadata": {
    "scrolled": true
   },
   "outputs": [
    {
     "data": {
      "text/plain": [
       "{1: 0.48484848484848486,\n",
       " 2: 0.2727272727272727,\n",
       " 3: 0.30303030303030304,\n",
       " 4: 0.18181818181818182,\n",
       " 5: 0.09090909090909091,\n",
       " 6: 0.12121212121212122,\n",
       " 7: 0.12121212121212122,\n",
       " 8: 0.12121212121212122,\n",
       " 9: 0.15151515151515152,\n",
       " 11: 0.09090909090909091,\n",
       " 12: 0.030303030303030304,\n",
       " 13: 0.06060606060606061,\n",
       " 14: 0.15151515151515152,\n",
       " 18: 0.06060606060606061,\n",
       " 20: 0.09090909090909091,\n",
       " 22: 0.06060606060606061,\n",
       " 32: 0.18181818181818182,\n",
       " 31: 0.12121212121212122,\n",
       " 10: 0.06060606060606061,\n",
       " 28: 0.12121212121212122,\n",
       " 29: 0.09090909090909091,\n",
       " 33: 0.36363636363636365,\n",
       " 17: 0.06060606060606061,\n",
       " 34: 0.5151515151515151,\n",
       " 15: 0.06060606060606061,\n",
       " 16: 0.06060606060606061,\n",
       " 19: 0.06060606060606061,\n",
       " 21: 0.06060606060606061,\n",
       " 23: 0.06060606060606061,\n",
       " 24: 0.15151515151515152,\n",
       " 26: 0.09090909090909091,\n",
       " 30: 0.12121212121212122,\n",
       " 25: 0.09090909090909091,\n",
       " 27: 0.06060606060606061}"
      ]
     },
     "execution_count": 5,
     "metadata": {},
     "output_type": "execute_result"
    }
   ],
   "source": [
    "degCent = nx.degree_centrality(G)\n",
    "degCent  # returns a dict {node->centrality}"
   ]
  },
  {
   "cell_type": "markdown",
   "metadata": {},
   "source": [
    "We can look at the centrality of node 34 *(see lecture video at time 4:55)*\n",
    "\n",
    "We can see its centrality is 0.515, which is the result of dividing its 17 connection over 34 - 1 (total nodes minus 1):"
   ]
  },
  {
   "cell_type": "code",
   "execution_count": 6,
   "metadata": {},
   "outputs": [
    {
     "data": {
      "text/plain": [
       "0.5151515151515151"
      ]
     },
     "execution_count": 6,
     "metadata": {},
     "output_type": "execute_result"
    }
   ],
   "source": [
    "degCent[34]"
   ]
  },
  {
   "cell_type": "markdown",
   "metadata": {},
   "source": [
    "#### Degree Centrality for directed networks"
   ]
  },
  {
   "cell_type": "markdown",
   "metadata": {},
   "source": [
    "For directed networks we use the same formula but we have to decide if how we count the connections: in-connections or out-connections."
   ]
  },
  {
   "cell_type": "markdown",
   "metadata": {},
   "source": [
    "* In-degree Centrality: \n",
    "$$ C_{indeg}(v) = \\frac{d^{in}_v}{ \\left\\vert N \\right\\vert - 1} $$\n",
    "\n",
    "* Out-degree Centrality: \n",
    "$$ C_{outdeg}(v) = \\frac{d^{out}_v}{ \\left\\vert N \\right\\vert - 1} $$"
   ]
  },
  {
   "cell_type": "code",
   "execution_count": 7,
   "metadata": {},
   "outputs": [],
   "source": [
    "# directed graph used as example \n",
    "G = nx.DiGraph()\n",
    "G.add_edges_from([('A', 'B'), ('C', 'A'), ('A', 'E'), ('G', 'A'), ('A', 'N'), \n",
    "                  ('B', 'C'), ('D', 'B'), ('B', 'E'), ('C', 'D'), ('E', 'C'), \n",
    "                  ('D', 'E'), ('E', 'D'), ('F', 'G'), ('I', 'F'), ('J', 'F'), \n",
    "                  ('H', 'G'), ('I', 'G'), ('G', 'J'), ('I', 'H'), ('H', 'I'), \n",
    "                  ('I', 'J'), ('J', 'O'), ('O', 'J'), ('K', 'M'), ('K', 'L'), \n",
    "                  ('O', 'K'), ('O', 'L'), ('N', 'L'), ('L', 'M'), ('N', 'O')])"
   ]
  },
  {
   "cell_type": "code",
   "execution_count": 11,
   "metadata": {},
   "outputs": [
    {
     "data": {
      "text/plain": [
       "(15, 30)"
      ]
     },
     "execution_count": 11,
     "metadata": {},
     "output_type": "execute_result"
    }
   ],
   "source": [
    "G.number_of_nodes(), G.number_of_edges()"
   ]
  },
  {
   "cell_type": "markdown",
   "metadata": {},
   "source": [
    "##### In-degree calculation"
   ]
  },
  {
   "cell_type": "markdown",
   "metadata": {},
   "source": [
    "We can calculate the in-degree centrality for all the nodes with the fucntion `nx.in_degree_centrality(G)`. Then we can see that for node A the centrality is 2/14 *(see lecture video at time 5:43)*:"
   ]
  },
  {
   "cell_type": "code",
   "execution_count": 8,
   "metadata": {},
   "outputs": [
    {
     "data": {
      "text/plain": [
       "0.14285714285714285"
      ]
     },
     "execution_count": 8,
     "metadata": {},
     "output_type": "execute_result"
    }
   ],
   "source": [
    "indegCent = nx.in_degree_centrality(G)\n",
    "indegCent['A']  # 2/14 see lecture video at time 5:43"
   ]
  },
  {
   "cell_type": "code",
   "execution_count": 12,
   "metadata": {},
   "outputs": [
    {
     "data": {
      "text/plain": [
       "0.21428571428571427"
      ]
     },
     "execution_count": 12,
     "metadata": {},
     "output_type": "execute_result"
    }
   ],
   "source": [
    "indegCent['L']  # 3/14 see lecture video at time 5:43"
   ]
  },
  {
   "cell_type": "markdown",
   "metadata": {},
   "source": [
    "##### Out-degree calculation"
   ]
  },
  {
   "cell_type": "markdown",
   "metadata": {},
   "source": [
    "We can calculate the out-degree centrality for all the nodes with the fucntion `nx.out_degree_centrality(G)`. Then we can see that for node A the centrality is 3/14 *(see lecture video at time 6:15)*:"
   ]
  },
  {
   "cell_type": "code",
   "execution_count": 15,
   "metadata": {},
   "outputs": [
    {
     "data": {
      "text/plain": [
       "0.21428571428571427"
      ]
     },
     "execution_count": 15,
     "metadata": {},
     "output_type": "execute_result"
    }
   ],
   "source": [
    "outdegCent = nx.out_degree_centrality(G)\n",
    "outdegCent['A']  # 3/14 see lecture video at time 6:15"
   ]
  },
  {
   "cell_type": "code",
   "execution_count": 16,
   "metadata": {},
   "outputs": [
    {
     "data": {
      "text/plain": [
       "0.07142857142857142"
      ]
     },
     "execution_count": 16,
     "metadata": {},
     "output_type": "execute_result"
    }
   ],
   "source": [
    "outdegCent['L']  # 1/14 see lecture video at time 6:15"
   ]
  },
  {
   "cell_type": "markdown",
   "metadata": {},
   "source": [
    "### Closeness Centrality"
   ]
  },
  {
   "cell_type": "markdown",
   "metadata": {},
   "source": [
    "#### Closeness Centrality for connected graphs\n",
    "\n",
    "**Assumption**: Important nodes are a short distance away from all other nodes in the network. \n",
    "\n",
    "\n",
    "Mathematical definition of Closeness Centrality of a node $v$:\n",
    "\n",
    "$$ C_{close}(v) = \\frac{ \\left\\vert N \\right\\vert - 1}{\\sum_{u \\in N} d(v,u)} $$ \n",
    "\n",
    "where:\n",
    "\n",
    "* N: Set of nodes in the network,\n",
    "* $d(v,u)$: length of the shortest path from $v$ to $u$. (a.k.a. distance from v to u).\n"
   ]
  },
  {
   "cell_type": "code",
   "execution_count": 17,
   "metadata": {},
   "outputs": [],
   "source": [
    "# Let's load the karate club data\n",
    "G = nx.karate_club_graph()\n",
    "G = nx.convert_node_labels_to_integers(G, first_label=1)"
   ]
  },
  {
   "cell_type": "markdown",
   "metadata": {},
   "source": [
    "We can calculate the closeness centrality of all the node with `nx.closeness_centrality(G)`"
   ]
  },
  {
   "cell_type": "code",
   "execution_count": 19,
   "metadata": {},
   "outputs": [
    {
     "data": {
      "text/plain": [
       "{1: 0.5689655172413793,\n",
       " 2: 0.4852941176470588,\n",
       " 3: 0.559322033898305,\n",
       " 4: 0.4647887323943662,\n",
       " 5: 0.3793103448275862,\n",
       " 6: 0.38372093023255816,\n",
       " 7: 0.38372093023255816,\n",
       " 8: 0.44,\n",
       " 9: 0.515625,\n",
       " 11: 0.3793103448275862,\n",
       " 12: 0.36666666666666664,\n",
       " 13: 0.3707865168539326,\n",
       " 14: 0.515625,\n",
       " 18: 0.375,\n",
       " 20: 0.5,\n",
       " 22: 0.375,\n",
       " 32: 0.5409836065573771,\n",
       " 31: 0.4583333333333333,\n",
       " 10: 0.4342105263157895,\n",
       " 28: 0.4583333333333333,\n",
       " 29: 0.4520547945205479,\n",
       " 33: 0.515625,\n",
       " 17: 0.28448275862068967,\n",
       " 34: 0.55,\n",
       " 15: 0.3707865168539326,\n",
       " 16: 0.3707865168539326,\n",
       " 19: 0.3707865168539326,\n",
       " 21: 0.3707865168539326,\n",
       " 23: 0.3707865168539326,\n",
       " 24: 0.39285714285714285,\n",
       " 26: 0.375,\n",
       " 30: 0.38372093023255816,\n",
       " 25: 0.375,\n",
       " 27: 0.3626373626373626}"
      ]
     },
     "execution_count": 19,
     "metadata": {},
     "output_type": "execute_result"
    }
   ],
   "source": [
    "closeCent = nx.closeness_centrality(G)\n",
    "closeCent  # dict {node-> cent}"
   ]
  },
  {
   "cell_type": "code",
   "execution_count": 20,
   "metadata": {},
   "outputs": [
    {
     "data": {
      "text/plain": [
       "0.5409836065573771"
      ]
     },
     "execution_count": 20,
     "metadata": {},
     "output_type": "execute_result"
    }
   ],
   "source": [
    "closeCent[32]"
   ]
  },
  {
   "cell_type": "markdown",
   "metadata": {},
   "source": [
    "Let's see how we obtained this result for node 32. Here we calculate the sum of all the distances from node 32 to all the other nodes:"
   ]
  },
  {
   "cell_type": "code",
   "execution_count": 24,
   "metadata": {},
   "outputs": [
    {
     "data": {
      "text/plain": [
       "61"
      ]
     },
     "execution_count": 24,
     "metadata": {},
     "output_type": "execute_result"
    }
   ],
   "source": [
    "sum(nx.shortest_path_length(G, 32).values())"
   ]
  },
  {
   "cell_type": "code",
   "execution_count": 26,
   "metadata": {},
   "outputs": [
    {
     "data": {
      "text/plain": [
       "0.5409836065573771"
      ]
     },
     "execution_count": 26,
     "metadata": {},
     "output_type": "execute_result"
    }
   ],
   "source": [
    "# should give the same than closeCent[32]\n",
    "(len(G.nodes()) - 1) / 61"
   ]
  },
  {
   "cell_type": "markdown",
   "metadata": {},
   "source": [
    "#### Closeness Centrality for disconnected graphs (General case)"
   ]
  },
  {
   "cell_type": "markdown",
   "metadata": {},
   "source": [
    "The previous definition of Closeness Centrality does not really work when some node can not reach all other nodes. In particular for directed graphs it is often the case that there are multiple connected components, so the graph is disconnected. \n",
    "\n",
    "So, how can we extend the definition for the general case of a disconnected graph?"
   ]
  },
  {
   "cell_type": "markdown",
   "metadata": {},
   "source": [
    "##### Option 1: Consider only nodes L can reach:\n",
    "\n",
    "$$ C_{close}(L) = \\frac{ \\left\\vert R(L) \\right\\vert }{\\sum_{u \\in R(L)} d(L,u)} $$ \n",
    "\n",
    "where:\n",
    "* $L$: source node \n",
    "* $R(L)$: Set of nodes L can reach in the network,\n",
    "* $d(L,u)$: length of the shortest path from $L$ to $u$. (a.k.a. distance from L to u).\n",
    "\n",
    "**Problem**: For a node that only is connected to one node: \n",
    "$ C_{close}(L) = \\frac{1}{1} $ , this is the maximum centrality a node can have, so this is not appropriate for a node that only has one connection."
   ]
  },
  {
   "cell_type": "markdown",
   "metadata": {},
   "source": [
    "##### Option 2: Consider only nodes L can reach with normalization\n",
    "\n",
    "Consider only nodes L can reach and normalize by the fraction of nodes L can reach:\n",
    "\n",
    "$$ C_{close}(L) = \\left[ \\frac{\\left\\vert R(L) \\right\\vert}{\\left\\vert N \\right\\vert - 1}  \\right] \\frac{ \\left\\vert R(L) \\right\\vert }{\\sum_{u \\in R(L)} d(L,u)} $$ \n",
    "\n",
    "where:\n",
    "* $L$: source node \n",
    "* $R(L)$: Set of nodes L can reach in the network,\n",
    "* $d(L,u)$: length of the shortest path from $L$ to $u$. (a.k.a. distance from L to u).\n",
    "\n",
    "\n",
    "**Problem solved**: So using this option nodes with only one connection get small values of centrality, which is more reasonable.\n",
    "\n",
    "**Notice**: Note that when the graph is connected this definition matches the original definition for connected graphs because $R(L) = N - 1$"
   ]
  },
  {
   "cell_type": "markdown",
   "metadata": {},
   "source": [
    "#### Measure Closeness Centrality with networkx\n",
    "\n"
   ]
  },
  {
   "cell_type": "code",
   "execution_count": 28,
   "metadata": {},
   "outputs": [],
   "source": [
    "# directed graph used as example \n",
    "G = nx.DiGraph()\n",
    "G.add_edges_from([('A', 'B'), ('C', 'A'), ('A', 'E'), ('G', 'A'), ('A', 'N'), \n",
    "                  ('B', 'C'), ('D', 'B'), ('B', 'E'), ('C', 'D'), ('E', 'C'), \n",
    "                  ('D', 'E'), ('E', 'D'), ('F', 'G'), ('I', 'F'), ('J', 'F'), \n",
    "                  ('H', 'G'), ('I', 'G'), ('G', 'J'), ('I', 'H'), ('H', 'I'), \n",
    "                  ('I', 'J'), ('J', 'O'), ('O', 'J'), ('K', 'M'), ('K', 'L'), \n",
    "                  ('O', 'K'), ('O', 'L'), ('N', 'L'), ('L', 'M'), ('N', 'O')])"
   ]
  },
  {
   "cell_type": "markdown",
   "metadata": {},
   "source": [
    "For option 1 (no normalization): *(see lecture video time 11:20)*"
   ]
  },
  {
   "cell_type": "code",
   "execution_count": 30,
   "metadata": {},
   "outputs": [
    {
     "data": {
      "text/plain": [
       "1.0"
      ]
     },
     "execution_count": 30,
     "metadata": {},
     "output_type": "execute_result"
    }
   ],
   "source": [
    "closeCent = nx.closeness_centrality(G, normalized=False)\n",
    "closeCent['L']"
   ]
  },
  {
   "cell_type": "markdown",
   "metadata": {},
   "source": [
    "For option 2 (with normalization): *(see lecture video time 11:25)*"
   ]
  },
  {
   "cell_type": "code",
   "execution_count": 31,
   "metadata": {},
   "outputs": [
    {
     "data": {
      "text/plain": [
       "0.07142857142857142"
      ]
     },
     "execution_count": 31,
     "metadata": {},
     "output_type": "execute_result"
    }
   ],
   "source": [
    "closeCent = nx.closeness_centrality(G, normalized=True)\n",
    "closeCent['L']"
   ]
  },
  {
   "cell_type": "markdown",
   "metadata": {},
   "source": [
    "### Summary"
   ]
  },
  {
   "cell_type": "markdown",
   "metadata": {},
   "source": [
    "* Degree Centrality\n",
    "    - Assumption: important nodes have many connections.\n",
    "    - `nx.degree_centrality(G)` : for undirected graphs\n",
    "    - `nx.in_degree_centrality(G)`  : for directed graphs\n",
    "    - `nx.out_degree_centrality(G)` : for directed graphs\n",
    "\n",
    "\n",
    "* Closeness Centrality:\n",
    "    - Assumption: important nodes have short distances to all other nodes.\n",
    "    - `nx.closeness_centrality(G, normalize=True)` : for undirected graphs or directed graphs\n"
   ]
  },
  {
   "cell_type": "markdown",
   "metadata": {},
   "source": [
    "## Lecture 2: Betweenness Centrality"
   ]
  },
  {
   "cell_type": "markdown",
   "metadata": {},
   "source": [
    "**Assumption**: Important nodes are those who connect other nodes.\n",
    "\n",
    "\n",
    "$$ C_{btw}(v) = \\sum_{s,t \\in N} \\frac {\\sigma_{s,t}(v)}{\\sigma_{s,t}} $$ \n",
    "\n",
    "where:\n",
    "* $\\sigma_{s,t}$: the number of shortest paths between nodes s and t. \n",
    "* $\\sigma_{s,t}(v)$: the number of shortest paths between nodes s and t *that pass through node v*.\n"
   ]
  },
  {
   "cell_type": "markdown",
   "metadata": {},
   "source": [
    "**Option to include endpoints**: You can exclude or include node $v$ as nodes $s, t$ in the computation of $C_{btw}(v)$\n",
    "\n",
    "Networkx will let you make this choice in their functions. "
   ]
  },
  {
   "cell_type": "markdown",
   "metadata": {},
   "source": [
    "**Problem**: What if not all nodes can reach each other (disconnected graph)? This happens often in directed graphs.\n",
    "\n",
    "Note that if 2 nodes $a, b$ can not reach each other: $\\sigma_{a,b}=0$ , which makes the the formula undefined.\n",
    "\n",
    "How to perform the computation in this case?\n",
    "\n",
    "**Solution**: When computing betweenness centrality, we only consider nodes $s, t$ such that there is at least one path between them. "
   ]
  },
  {
   "cell_type": "markdown",
   "metadata": {},
   "source": [
    "#### Normalization in Betweenness Centrality"
   ]
  },
  {
   "cell_type": "markdown",
   "metadata": {},
   "source": [
    "The values are larger for graphs with many nodes. \n",
    "\n",
    "To control for this we divide centrality values by the numbrer of pair of nodes in the graph (excluding $v$):\n",
    "\n",
    "* $ \\frac{1}{2} ( \\vert N \\vert - 1) ( \\vert N \\vert - 2) $ : for undirected graphs\n",
    "\n",
    "\n",
    "* $ ( \\vert N \\vert - 1) ( \\vert N \\vert - 2) $  : for directed graphs"
   ]
  },
  {
   "cell_type": "markdown",
   "metadata": {},
   "source": [
    "### Betweenness Centrality in networkx"
   ]
  },
  {
   "cell_type": "code",
   "execution_count": 32,
   "metadata": {},
   "outputs": [],
   "source": [
    "# Let's load the karate club data\n",
    "G = nx.karate_club_graph()\n",
    "G = nx.convert_node_labels_to_integers(G, first_label=1)"
   ]
  },
  {
   "cell_type": "markdown",
   "metadata": {},
   "source": [
    "We can calculate the closeness centrality of all the node with `nx.betweenness_centrality(G)`"
   ]
  },
  {
   "cell_type": "code",
   "execution_count": 35,
   "metadata": {
    "scrolled": true
   },
   "outputs": [
    {
     "data": {
      "text/plain": [
       "{1: 0.4376352813852815,\n",
       " 2: 0.05393668831168831,\n",
       " 3: 0.14365680615680615,\n",
       " 4: 0.011909271284271283,\n",
       " 5: 0.0006313131313131313,\n",
       " 6: 0.02998737373737374,\n",
       " 7: 0.029987373737373736,\n",
       " 8: 0.0,\n",
       " 9: 0.05592682780182782,\n",
       " 11: 0.0006313131313131313,\n",
       " 12: 0.0,\n",
       " 13: 0.0,\n",
       " 14: 0.045863395863395856,\n",
       " 18: 0.0,\n",
       " 20: 0.03247504810004811,\n",
       " 22: 0.0,\n",
       " 32: 0.13827561327561327,\n",
       " 31: 0.014411976911976905,\n",
       " 10: 0.0008477633477633478,\n",
       " 28: 0.022333453583453587,\n",
       " 29: 0.0017947330447330447,\n",
       " 33: 0.14524711399711404,\n",
       " 17: 0.0,\n",
       " 34: 0.30407497594997596,\n",
       " 15: 0.0,\n",
       " 16: 0.0,\n",
       " 19: 0.0,\n",
       " 21: 0.0,\n",
       " 23: 0.0,\n",
       " 24: 0.017613636363636363,\n",
       " 26: 0.0038404882154882162,\n",
       " 30: 0.0029220779220779218,\n",
       " 25: 0.0022095959595959595,\n",
       " 27: 0.0}"
      ]
     },
     "execution_count": 35,
     "metadata": {},
     "output_type": "execute_result"
    }
   ],
   "source": [
    "btwnCent = nx.betweenness_centrality(G, normalized=True, endpoints=False)\n",
    "btwnCent"
   ]
  },
  {
   "cell_type": "markdown",
   "metadata": {},
   "source": [
    "Let's filter the above result to get the top 5 nodes with the highest betweenness centrality scores *(see lecture video time 10:20 for a figure showing the positions of these nodes in the Karate graph)*:"
   ]
  },
  {
   "cell_type": "code",
   "execution_count": 37,
   "metadata": {},
   "outputs": [
    {
     "data": {
      "text/plain": [
       "[(1, 0.4376352813852815),\n",
       " (34, 0.30407497594997596),\n",
       " (33, 0.14524711399711404),\n",
       " (3, 0.14365680615680615),\n",
       " (32, 0.13827561327561327)]"
      ]
     },
     "execution_count": 37,
     "metadata": {},
     "output_type": "execute_result"
    }
   ],
   "source": [
    "from operator import itemgetter\n",
    "\n",
    "sorted(btwnCent.items(), key=itemgetter(1), reverse=True)[0:5]"
   ]
  },
  {
   "cell_type": "markdown",
   "metadata": {},
   "source": [
    "#### Betweenness Centrality - Computational complexity - k parameter"
   ]
  },
  {
   "cell_type": "markdown",
   "metadata": {},
   "source": [
    "This calculation is very computationaly expensive. Depending on the algorithm it can take $O({\\vert N \\vert}^3)$ time.\n",
    "\n",
    "**Approximation**: Limit number of pair of nodes $s, t$ to be considered.\n",
    "\n",
    "In networkx you can achieve this by passing the parameter k:"
   ]
  },
  {
   "cell_type": "code",
   "execution_count": 38,
   "metadata": {
    "scrolled": true
   },
   "outputs": [
    {
     "data": {
      "text/plain": [
       "{1: 0.4273151154401154,\n",
       " 2: 0.05354662698412698,\n",
       " 3: 0.11270472582972581,\n",
       " 4: 0.0070296717171717165,\n",
       " 5: 0.0010732323232323232,\n",
       " 6: 0.015561868686868688,\n",
       " 7: 0.014488636363636363,\n",
       " 8: 0.0,\n",
       " 9: 0.06956845238095238,\n",
       " 11: 0.0,\n",
       " 12: 0.0,\n",
       " 13: 0.0,\n",
       " 14: 0.06237779581529581,\n",
       " 18: 0.0,\n",
       " 20: 0.05172213203463203,\n",
       " 22: 0.0,\n",
       " 32: 0.11955041486291486,\n",
       " 31: 0.028134018759018754,\n",
       " 10: 0.0006746031746031745,\n",
       " 28: 0.010762987012987012,\n",
       " 29: 0.0006746031746031745,\n",
       " 33: 0.16817550505050508,\n",
       " 17: 0.0,\n",
       " 34: 0.3942288961038961,\n",
       " 15: 0.0,\n",
       " 16: 0.0,\n",
       " 19: 0.0,\n",
       " 21: 0.0,\n",
       " 23: 0.0,\n",
       " 24: 0.008049242424242424,\n",
       " 26: 0.0012878787878787877,\n",
       " 30: 0.004967532467532467,\n",
       " 25: 0.0,\n",
       " 27: 0.0}"
      ]
     },
     "execution_count": 38,
     "metadata": {},
     "output_type": "execute_result"
    }
   ],
   "source": [
    "btwnCent = nx.betweenness_centrality(G, normalized=True, endpoints=False, k=10)\n",
    "btwnCent"
   ]
  },
  {
   "cell_type": "markdown",
   "metadata": {},
   "source": [
    "If we look now at the top 5 nodes with the highest betweenness centrality scores, the results can be a bit different, but hopefully close enough:"
   ]
  },
  {
   "cell_type": "code",
   "execution_count": 39,
   "metadata": {},
   "outputs": [
    {
     "data": {
      "text/plain": [
       "[(1, 0.4273151154401154),\n",
       " (34, 0.3942288961038961),\n",
       " (33, 0.16817550505050508),\n",
       " (32, 0.11955041486291486),\n",
       " (3, 0.11270472582972581)]"
      ]
     },
     "execution_count": 39,
     "metadata": {},
     "output_type": "execute_result"
    }
   ],
   "source": [
    "sorted(btwnCent.items(), key=itemgetter(1), reverse=True)[0:5]"
   ]
  },
  {
   "cell_type": "markdown",
   "metadata": {},
   "source": [
    "#### Betweenness Centrality - Subsets"
   ]
  },
  {
   "cell_type": "markdown",
   "metadata": {},
   "source": [
    "Sometimes you want to be able to select the sets of source nodes and target nodes to be used when computing the Betweenness Centrality. Maybe because you are interested in studying the nodes that are important for the comunication between 2 specific sections of the network.\n",
    "\n",
    "In networkx you can do this by using the fucntion `nx.betweenness_centrality_subset(G, source_set, target_set)`:"
   ]
  },
  {
   "cell_type": "code",
   "execution_count": 41,
   "metadata": {
    "scrolled": true
   },
   "outputs": [
    {
     "data": {
      "text/plain": [
       "{1: 0.04899515993265994,\n",
       " 2: 0.0,\n",
       " 3: 0.018368205868205867,\n",
       " 4: 0.0021412037037037038,\n",
       " 5: 0.0,\n",
       " 6: 0.004261363636363636,\n",
       " 7: 0.004261363636363636,\n",
       " 8: 0.0,\n",
       " 9: 0.014519450456950456,\n",
       " 11: 0.0,\n",
       " 12: 0.0,\n",
       " 13: 0.0,\n",
       " 14: 0.012970478595478596,\n",
       " 18: 0.0,\n",
       " 20: 0.007804232804232804,\n",
       " 22: 0.0,\n",
       " 32: 0.014519450456950456,\n",
       " 31: 0.0,\n",
       " 10: 0.0,\n",
       " 28: 0.0,\n",
       " 29: 0.0,\n",
       " 33: 0.01664712602212602,\n",
       " 17: 0.0,\n",
       " 34: 0.028807419432419434,\n",
       " 15: 0.0,\n",
       " 16: 0.0,\n",
       " 19: 0.0,\n",
       " 21: 0.0,\n",
       " 23: 0.0,\n",
       " 24: 0.0,\n",
       " 26: 0.0,\n",
       " 30: 0.0,\n",
       " 25: 0.0,\n",
       " 27: 0.0}"
      ]
     },
     "execution_count": 41,
     "metadata": {},
     "output_type": "execute_result"
    }
   ],
   "source": [
    "sources = [34, 33, 21, 30, 16, 27, 15, 23, 10]\n",
    "targets = [1, 4, 13, 11, 6, 12, 17, 7]\n",
    "\n",
    "btwnCent_subset = nx.betweenness_centrality_subset(G, sources, targets, normalized=True)\n",
    "btwnCent_subset"
   ]
  },
  {
   "cell_type": "markdown",
   "metadata": {},
   "source": [
    "Let's filter the above result to get the top 5 nodes with the highest betweenness centrality scores *(see lecture video time 13:10 for a figure showing the positions of  of the source and target nodes in the Karate graph)*:"
   ]
  },
  {
   "cell_type": "code",
   "execution_count": 43,
   "metadata": {},
   "outputs": [
    {
     "data": {
      "text/plain": [
       "[(1, 0.04899515993265994),\n",
       " (34, 0.028807419432419434),\n",
       " (3, 0.018368205868205867),\n",
       " (33, 0.01664712602212602),\n",
       " (9, 0.014519450456950456)]"
      ]
     },
     "execution_count": 43,
     "metadata": {},
     "output_type": "execute_result"
    }
   ],
   "source": [
    "sorted(btwnCent_subset.items(), key=itemgetter(1), reverse=True)[0:5]"
   ]
  },
  {
   "cell_type": "markdown",
   "metadata": {},
   "source": [
    "#### Betweenness Centrality - Edges"
   ]
  },
  {
   "cell_type": "markdown",
   "metadata": {},
   "source": [
    "We can use betweenness centrality to find the important edges instead of nodes, using the same formula:\n",
    "\n",
    "$$ C_{btw}(e) = \\sum_{s,t \\in N} \\frac {\\sigma_{s,t}(e)}{\\sigma_{s,t}} $$ \n",
    "\n",
    "where:\n",
    "* $\\sigma_{s,t}$: the number of shortest paths between nodes s and t. \n",
    "* $\\sigma_{s,t}(v)$: the number of shortest paths between nodes s and t *that pass through edge e*.\n"
   ]
  },
  {
   "cell_type": "markdown",
   "metadata": {},
   "source": [
    "We can calculate the edge betweenness centrality with networkx function `nx.edge_betweenness_centrality`:"
   ]
  },
  {
   "cell_type": "code",
   "execution_count": 45,
   "metadata": {
    "scrolled": true
   },
   "outputs": [
    {
     "data": {
      "text/plain": [
       "{(1, 2): 0.025252525252525245,\n",
       " (1, 3): 0.07778768072885717,\n",
       " (1, 4): 0.02049910873440285,\n",
       " (1, 5): 0.0522875816993464,\n",
       " (1, 6): 0.07813428401663694,\n",
       " (1, 7): 0.07813428401663695,\n",
       " (1, 8): 0.0228206434088787,\n",
       " (1, 9): 0.07423959482783016,\n",
       " (1, 11): 0.0522875816993464,\n",
       " (1, 12): 0.058823529411764705,\n",
       " (1, 13): 0.04652406417112298,\n",
       " (1, 14): 0.042371898254251195,\n",
       " (1, 18): 0.04012392835922249,\n",
       " (1, 20): 0.045936960642843,\n",
       " (1, 22): 0.04012392835922249,\n",
       " (1, 32): 0.12725999490705373,\n",
       " (2, 3): 0.023232323232323233,\n",
       " (2, 4): 0.0077243018419489,\n",
       " (2, 8): 0.007422969187675069,\n",
       " (2, 14): 0.01240556828792123,\n",
       " (2, 18): 0.018699601052542224,\n",
       " (2, 20): 0.014633732280791106,\n",
       " (2, 22): 0.018699601052542224,\n",
       " (2, 31): 0.032280791104320514,\n",
       " (3, 4): 0.022430184194890075,\n",
       " (3, 8): 0.025214328155504617,\n",
       " (3, 9): 0.009175791528732703,\n",
       " (3, 10): 0.030803836686189627,\n",
       " (3, 14): 0.007630931160342923,\n",
       " (3, 28): 0.041192032368502954,\n",
       " (3, 29): 0.022782446311858072,\n",
       " (3, 33): 0.06898678663384546,\n",
       " (4, 8): 0.003365588659706307,\n",
       " (4, 13): 0.012299465240641705,\n",
       " (4, 14): 0.01492233256939139,\n",
       " (5, 7): 0.0047534165181224,\n",
       " (5, 11): 0.0029708853238265,\n",
       " (6, 7): 0.0029708853238265003,\n",
       " (6, 11): 0.0047534165181224,\n",
       " (6, 17): 0.029411764705882353,\n",
       " (7, 17): 0.029411764705882353,\n",
       " (9, 31): 0.00980392156862745,\n",
       " (9, 33): 0.030441671618142208,\n",
       " (9, 34): 0.04043657867187278,\n",
       " (14, 34): 0.06782389723566193,\n",
       " (20, 34): 0.0593823387941035,\n",
       " (32, 25): 0.040106951871657755,\n",
       " (32, 26): 0.04205783323430382,\n",
       " (32, 29): 0.014854426619132501,\n",
       " (32, 33): 0.041433947316300256,\n",
       " (32, 34): 0.05339388280564753,\n",
       " (31, 33): 0.01705288175876411,\n",
       " (31, 34): 0.026814362108479758,\n",
       " (10, 34): 0.029615482556659026,\n",
       " (28, 24): 0.010536739948504651,\n",
       " (28, 25): 0.018657159833630425,\n",
       " (28, 34): 0.030477039300568706,\n",
       " (29, 34): 0.024564977506153975,\n",
       " (33, 15): 0.024083977025153493,\n",
       " (33, 16): 0.024083977025153493,\n",
       " (33, 19): 0.024083977025153493,\n",
       " (33, 21): 0.024083977025153493,\n",
       " (33, 23): 0.024083977025153493,\n",
       " (33, 24): 0.02234105763517528,\n",
       " (33, 30): 0.023328523328523327,\n",
       " (33, 34): 0.008225108225108224,\n",
       " (34, 15): 0.03473955238661121,\n",
       " (34, 16): 0.03473955238661121,\n",
       " (34, 19): 0.03473955238661121,\n",
       " (34, 21): 0.03473955238661121,\n",
       " (34, 23): 0.03473955238661121,\n",
       " (34, 24): 0.03266983561101209,\n",
       " (34, 27): 0.0542908072319837,\n",
       " (34, 30): 0.029807882749059215,\n",
       " (24, 26): 0.019776193305605066,\n",
       " (24, 30): 0.006654783125371359,\n",
       " (26, 25): 0.0042186571598336305,\n",
       " (30, 27): 0.004532722179781003}"
      ]
     },
     "execution_count": 45,
     "metadata": {},
     "output_type": "execute_result"
    }
   ],
   "source": [
    "btwnCent_edge = nx.edge_betweenness_centrality(G, normalized=True)\n",
    "btwnCent_edge"
   ]
  },
  {
   "cell_type": "markdown",
   "metadata": {},
   "source": [
    "Let's filter the output to find the top 5 edges with the highest betweenness centrality:"
   ]
  },
  {
   "cell_type": "code",
   "execution_count": 46,
   "metadata": {},
   "outputs": [
    {
     "data": {
      "text/plain": [
       "[((1, 32), 0.12725999490705373),\n",
       " ((1, 7), 0.07813428401663695),\n",
       " ((1, 6), 0.07813428401663694),\n",
       " ((1, 3), 0.07778768072885717),\n",
       " ((1, 9), 0.07423959482783016)]"
      ]
     },
     "execution_count": 46,
     "metadata": {},
     "output_type": "execute_result"
    }
   ],
   "source": [
    "sorted(btwnCent_edge.items(), key=itemgetter(1), reverse=True)[0:5]"
   ]
  },
  {
   "cell_type": "markdown",
   "metadata": {},
   "source": [
    "You can select the source and target subsets to calculate the betweenness centrality for the edges too (similar to the nodes).\n",
    "\n",
    "For that you use networkx function `nx.edge_betweenness_centrality_subset` *(see lecture video time 15:55)*:"
   ]
  },
  {
   "cell_type": "code",
   "execution_count": 47,
   "metadata": {
    "scrolled": true
   },
   "outputs": [
    {
     "data": {
      "text/plain": [
       "{(1, 2): 0.0,\n",
       " (1, 3): 0.01211343123107829,\n",
       " (1, 4): 0.0,\n",
       " (1, 5): 0.0,\n",
       " (1, 6): 0.012032085561497326,\n",
       " (1, 7): 0.012032085561497326,\n",
       " (1, 8): 0.0,\n",
       " (1, 9): 0.01366536513595337,\n",
       " (1, 11): 0.00802139037433155,\n",
       " (1, 12): 0.00802139037433155,\n",
       " (1, 13): 0.006006139829669241,\n",
       " (1, 14): 0.007345160286336755,\n",
       " (1, 18): 0.0,\n",
       " (1, 20): 0.007345160286336755,\n",
       " (1, 22): 0.0,\n",
       " (1, 32): 0.01366536513595337,\n",
       " (2, 3): 0.0,\n",
       " (2, 4): 0.0,\n",
       " (2, 8): 0.0,\n",
       " (2, 14): 0.0,\n",
       " (2, 18): 0.0,\n",
       " (2, 20): 0.0,\n",
       " (2, 22): 0.0,\n",
       " (2, 31): 0.0,\n",
       " (3, 4): 0.005174291938997821,\n",
       " (3, 8): 0.0,\n",
       " (3, 9): 0.0,\n",
       " (3, 10): 0.0071301247771836,\n",
       " (3, 14): 0.0,\n",
       " (3, 28): 0.0,\n",
       " (3, 29): 0.0,\n",
       " (3, 33): 0.010157598392892509,\n",
       " (4, 8): 0.0,\n",
       " (4, 13): 0.0020152505446623093,\n",
       " (4, 14): 0.004862348979996039,\n",
       " (5, 7): 0.0,\n",
       " (5, 11): 0.0,\n",
       " (6, 7): 0.0,\n",
       " (6, 11): 0.0,\n",
       " (6, 17): 0.004010695187165775,\n",
       " (7, 17): 0.004010695187165775,\n",
       " (9, 31): 0.0,\n",
       " (9, 33): 0.006320204849616614,\n",
       " (9, 34): 0.007345160286336755,\n",
       " (14, 34): 0.012207509266332794,\n",
       " (20, 34): 0.007345160286336755,\n",
       " (32, 25): 0.0,\n",
       " (32, 26): 0.0,\n",
       " (32, 29): 0.0,\n",
       " (32, 33): 0.006320204849616614,\n",
       " (32, 34): 0.007345160286336755,\n",
       " (31, 33): 0.0,\n",
       " (31, 34): 0.0,\n",
       " (10, 34): 0.0,\n",
       " (28, 24): 0.0,\n",
       " (28, 25): 0.0,\n",
       " (28, 34): 0.0,\n",
       " (29, 34): 0.0,\n",
       " (33, 15): 0.0031335766629884275,\n",
       " (33, 16): 0.0031335766629884275,\n",
       " (33, 19): 0.0,\n",
       " (33, 21): 0.0031335766629884275,\n",
       " (33, 23): 0.0031335766629884275,\n",
       " (33, 24): 0.0,\n",
       " (33, 30): 0.0031335766629884275,\n",
       " (33, 34): 0.0,\n",
       " (34, 15): 0.003996548114195173,\n",
       " (34, 16): 0.003996548114195173,\n",
       " (34, 19): 0.0,\n",
       " (34, 21): 0.003996548114195173,\n",
       " (34, 23): 0.003996548114195173,\n",
       " (34, 24): 0.0,\n",
       " (34, 27): 0.0071301247771836,\n",
       " (34, 30): 0.003996548114195173,\n",
       " (24, 26): 0.0,\n",
       " (24, 30): 0.0,\n",
       " (26, 25): 0.0,\n",
       " (30, 27): 0.0}"
      ]
     },
     "execution_count": 47,
     "metadata": {},
     "output_type": "execute_result"
    }
   ],
   "source": [
    "sources = [34, 33, 21, 30, 16, 27, 15, 23, 10]\n",
    "targets = [1, 4, 13, 11, 6, 12, 17, 7]\n",
    "\n",
    "btwnCent_edge_subset = nx.edge_betweenness_centrality_subset(G, sources, targets, normalized=True)\n",
    "btwnCent_edge_subset"
   ]
  },
  {
   "cell_type": "markdown",
   "metadata": {},
   "source": [
    "Let's filter the output to find the top 5 edges with the highest betweenness centrality between the 2 set of source and target nodes:"
   ]
  },
  {
   "cell_type": "code",
   "execution_count": 48,
   "metadata": {
    "scrolled": true
   },
   "outputs": [
    {
     "data": {
      "text/plain": [
       "[((1, 9), 0.01366536513595337),\n",
       " ((1, 32), 0.01366536513595337),\n",
       " ((14, 34), 0.012207509266332794),\n",
       " ((1, 3), 0.01211343123107829),\n",
       " ((1, 6), 0.012032085561497326)]"
      ]
     },
     "execution_count": 48,
     "metadata": {},
     "output_type": "execute_result"
    }
   ],
   "source": [
    "sorted(btwnCent_edge_subset.items(), key=itemgetter(1), reverse=True)[0:5]"
   ]
  },
  {
   "cell_type": "markdown",
   "metadata": {},
   "source": [
    "### Sumary\n",
    "\n"
   ]
  },
  {
   "cell_type": "markdown",
   "metadata": {},
   "source": [
    "* **Betweenness centrality assumption**: important nodes connect other nodes.\n",
    "\n",
    "\n",
    "* **Normalization**: Divide by the number of pair of nodes.\n",
    "\n",
    "\n",
    "* **Approximation**: Limit number of pairs $(s, t)$ (paramenter k).\n",
    "\n",
    "\n",
    "* **Subsets**: You can define which subsets to use as source and target to compute Betweenness centrality.\n",
    "\n",
    "\n",
    "* **Edge betweenness centrality**: We can use the same framework to find important edges."
   ]
  },
  {
   "cell_type": "markdown",
   "metadata": {},
   "source": [
    "## Lecture 3: Basic PageRank"
   ]
  },
  {
   "cell_type": "markdown",
   "metadata": {},
   "source": [
    "**Assumption**: Important nodes are those who have many in-links from other important nodes.\n",
    "\n",
    "PageRank can be used in any type of network, but it is most useful for directed networks.\n",
    "\n"
   ]
  },
  {
   "cell_type": "markdown",
   "metadata": {},
   "source": [
    "**PageRank is an iterative algorithm**, it takes several steps to converge to a solution:\n",
    "\n",
    "n = number of nodes in the network.\n",
    "\n",
    "k = number of steps.\n",
    "\n",
    "1. Assign all nodes a PageRank of 1/n.\n",
    "\n",
    "\n",
    "2. Perform the *Basic PageRank Update Rule* k times: \n",
    "    * **Basic PageRank Update Rule**: Each node gives an equal share of its current PageRank to each node it links to.\n",
    "    * The new iteration PageRank of a node will be the sum of all PageRank it received from other nodes.\n",
    "    \n",
    "\n",
    "For most networks PageRank values converge as k gets larger ($k \\to \\infty$) "
   ]
  },
  {
   "cell_type": "markdown",
   "metadata": {},
   "source": [
    "## Lecture 4: Scaled PageRank"
   ]
  },
  {
   "cell_type": "markdown",
   "metadata": {},
   "source": [
    "* The basic PageRank of a node can be interpreted as the probability that a random walk lands on the node after k steps.\n",
    "\n",
    "\n",
    "* Basic PageRank has the problem that, in some networks, a few nodes can \"suck up\" all the PageRank from the network. *(See lecture video time 2:39 for a simple example)*\n",
    "\n",
    "\n",
    "* To fix this problem **Scaled PageRank** introduces a parameter $\\alpha$, such that the random walker can choose to jump to a random node (even not connected nodes) with probability $p = 1 - \\alpha$\n",
    "\n",
    "\n",
    "* Typically $\\alpha$ is between 0.8 and 0.9. \n",
    "\n",
    "\n",
    "* The particular value of PageRank will depend on the chosen $\\alpha$.\n",
    "\n",
    "\n",
    "* For most networks Scaled PageRank will converge when k gets larger ($k \\to \\infty$).\n",
    "\n",
    "\n",
    "* To compute Scaled PageRank you can use NetworkX function `nx.pagerank(G, alpha=0.8)`"
   ]
  },
  {
   "cell_type": "markdown",
   "metadata": {},
   "source": [
    "## Lecture 5: Hubs and Authorities"
   ]
  },
  {
   "cell_type": "markdown",
   "metadata": {},
   "source": [
    "#### Hyperlink-Induced Topic Search (HITS; also known as hubs and authorities)\n",
    "\n",
    "\n",
    "Given a query to a search engine:\n",
    "\n",
    "* **Root set**: Set of highly relevant web pages (e.g. pages that contain the query string) - *potential authorities*.\n",
    "\n",
    "\n",
    "* Find all pages that link to a page in Root - *potential hubs*.\n",
    "\n",
    "\n",
    "* **Base set**: root node plus any node that links to a node in Root.\n",
    "\n",
    "\n",
    "* Consider all edges that conecting nodes in the base set.\n",
    "\n",
    "\n",
    "*(See lecture video time 1:42 for a figure representing the root and base sets on a network)*"
   ]
  },
  {
   "cell_type": "markdown",
   "metadata": {},
   "source": [
    "### HITS Algorithm"
   ]
  },
  {
   "cell_type": "markdown",
   "metadata": {},
   "source": [
    "Compute k iterations of the HITS algorithm to assign the *authority score* and the *hub score* to each node:\n",
    "\n",
    "\n",
    "1. Assign to each node an authority and hub score of 1.\n",
    "\n",
    "\n",
    "2. Apply the **Authority Update Rule**: each node's **authority** score is the sum of hub scores of each node that **points to it** (in-links).\n",
    "\n",
    "\n",
    "3. Apply the **Hub Update Rule**: each node's **hub** score is the sum of authority scores of each node that **it points to** (out-links).\n",
    "\n",
    "\n",
    "4. **Normalize** Authority and Hub scores: $ auth(j) = \\frac{ auth(j) }{ \\sum_{i \\in N}{auth(i)}} $ \n",
    "\n",
    "\n",
    "5. Repeat the process $k$ times."
   ]
  },
  {
   "cell_type": "markdown",
   "metadata": {},
   "source": [
    "*(See Lecture video at time 4:00 for an example computation of the HITS algorithm in a simple network)*"
   ]
  },
  {
   "cell_type": "markdown",
   "metadata": {},
   "source": [
    "#### HITS with networkx"
   ]
  },
  {
   "cell_type": "markdown",
   "metadata": {},
   "source": [
    "You can use NetworkX function `nx.hits(G)` to compute the hub and authority.\n",
    "\n",
    "This function output is 2 dicts, keyed by node, with the hub and authority scores for the nodes."
   ]
  },
  {
   "cell_type": "markdown",
   "metadata": {},
   "source": [
    "### Summary"
   ]
  },
  {
   "cell_type": "markdown",
   "metadata": {},
   "source": [
    "* The HITS algorithm starts by constructing a *root set* of relevant web pages and extending it to a *base set*.\n",
    "\n",
    "\n",
    "* Nodes that have incoming edges from *good hubs* are *good authorities*, and nodes that have outgoing edges to *good authorities* are *good hubs*.\n",
    "\n",
    "\n",
    "* For most networks the authority and hub scores converge when k gets larger ($k \\to \\infty$).\n",
    "\n",
    "\n",
    "* You can use NetworkX function `nx.hits(G)` to compute the hub and authority."
   ]
  },
  {
   "cell_type": "markdown",
   "metadata": {},
   "source": [
    "## Lecture 6: Centrality examples"
   ]
  },
  {
   "cell_type": "markdown",
   "metadata": {},
   "source": [
    "The lecture just present a comparison of the different Centrality measure scores calculated for an example network.\n",
    "\n",
    "**Conclusions**:\n",
    "\n",
    "* Different centrality measures produce different node ranking, but there are some commonalities.\n",
    "\n",
    "\n",
    "* Centrality measures make different assumptions about what it means to be a \"central\" node.\n",
    "\n",
    "\n",
    "* The best centrality measure depend on the context of the network one is analyzing."
   ]
  },
  {
   "cell_type": "markdown",
   "metadata": {},
   "source": [
    "--------------------"
   ]
  },
  {
   "cell_type": "markdown",
   "metadata": {},
   "source": [
    "## Extra information"
   ]
  },
  {
   "cell_type": "markdown",
   "metadata": {},
   "source": [
    "* NetworkX official documentation on Centrality has a nice review of the centrality measures and even include some figures and formulas from the lecures: https://pynetwork.readthedocs.io/en/latest/influence_central.html"
   ]
  },
  {
   "cell_type": "code",
   "execution_count": null,
   "metadata": {},
   "outputs": [],
   "source": []
  }
 ],
 "metadata": {
  "kernelspec": {
   "display_name": "Python (coursera_dscience_networkx1)",
   "language": "python",
   "name": "coursera_dscience_networkx1"
  },
  "language_info": {
   "codemirror_mode": {
    "name": "ipython",
    "version": 3
   },
   "file_extension": ".py",
   "mimetype": "text/x-python",
   "name": "python",
   "nbconvert_exporter": "python",
   "pygments_lexer": "ipython3",
   "version": "3.7.1"
  }
 },
 "nbformat": 4,
 "nbformat_minor": 2
}
